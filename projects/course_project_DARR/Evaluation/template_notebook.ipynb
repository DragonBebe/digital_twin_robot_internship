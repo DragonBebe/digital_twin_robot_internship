{
 "cells": [
  {
   "cell_type": "markdown",
   "metadata": {},
   "source": [
    "This notebook summarizes the development process of real-time fault dection/diagnosis model for a educational robot. It is organized as follows:\n",
    "\n",
    "[Write a summary of this notebook, summarizing what do you do in each section]."
   ]
  },
  {
   "cell_type": "markdown",
   "metadata": {},
   "source": [
    "# Description of the dataset\n",
    "\n",
    "Write a few paragraphs explaining the data collection procedures here:\n",
    "\n",
    "- How do you design experiment to inject failure?\n",
    "- How to collect the data?\n",
    "- How many test scenarios you consider in your data collection process? (You can refer to the slide of Lecture 7) \n",
    "- If you generate some additional data yourself, describe how do you generate your data?\n",
    "- In the end, present a summary of your traing data:\n",
    "    - Number of samples\n",
    "    - Features\n",
    "    - Fraction of positive/negative samples"
   ]
  },
  {
   "cell_type": "code",
   "execution_count": null,
   "metadata": {},
   "outputs": [],
   "source": [
    "# Read your training data here. And print a summary of your training dataset.\n"
   ]
  },
  {
   "cell_type": "markdown",
   "metadata": {},
   "source": [
    "# Exploaratory analysis of the training data\n",
    "\n",
    "In this section, please present the results of the exploaratory analysis of the training data. You can use the training dataset we presented in Lecture 7, and use the visualize_collected_data.ipynb notebook to visualize the data. Then, please present the patterns you could discover through this analysis. A few examples include:\n",
    "\n",
    "- Let us examine “steady_state_not_moving” and “steady_state_after_movement”. \n",
    "    - What patterns do you discover for the robot temperature in steady-state?\n",
    "- Let us examine “static_with_fault_1” - “static_with_fault_6”.\n",
    "    - What patterns do you discover for the robot temperature when the failure is injected?\n",
    "    - Pay attention to the period of injection V.S. the change in temperature.\n",
    "    - What impacts will these patterns have on fault detection?\n",
    "- Let us examine “task_normal” - “task_fault”.\n",
    "    - When the robot is moving, is the temperature pattern different from the static case? Can you summarize some typical patterns?\n",
    "    - Can you see a difference between the failure case and normal case?\n",
    "\n",
    "You can add other findings if you have some additional ones."
   ]
  },
  {
   "cell_type": "code",
   "execution_count": null,
   "metadata": {},
   "outputs": [],
   "source": [
    "# Put your code here. Execute it so that we can directly see the results\n"
   ]
  },
  {
   "cell_type": "markdown",
   "metadata": {},
   "source": [
    "# Data cleaning and feature selection.\n",
    "\n",
    "Apply what we have learnt in the previous lectures for data cleaning, preprocessing and feature engineering. \n",
    "\n",
    "Write a few paragaphs to summarize:\n",
    "- How do you clean and preprocess the data?\n",
    "- What features do you select (for each motor)?"
   ]
  },
  {
   "cell_type": "code",
   "execution_count": null,
   "metadata": {},
   "outputs": [],
   "source": []
  },
  {
   "cell_type": "markdown",
   "metadata": {},
   "source": [
    "# A baseline model of logistic regression\n",
    "\n",
    "Train a simple regression regression model on all the data in the initial training set, except the task_fault. You can use create_a_simple_mdl.ipynb as a reference.\n",
    "\n",
    "Apply the trained model to predict the performance on task_fault dataset.\n",
    "\n",
    "Are you satisfied with your performance? How do you diagnose the main problems of your current models? How could you improve it?"
   ]
  },
  {
   "cell_type": "code",
   "execution_count": null,
   "metadata": {},
   "outputs": [],
   "source": []
  },
  {
   "cell_type": "markdown",
   "metadata": {},
   "source": [
    "# Model development\n",
    "\n",
    "In this section, present all the models you have tried. Use cross validation to test the performance of the models, on the **training dataset**. Please create a subsection for each model. And create a Table here to summarize the performance of each model from your cross validation.\n",
    "\n",
    "| Model | Accuracy | Precision | Recall | F1-score |\n",
    "|-------|----------|-----------|--------|----------|\n",
    "| Logistic Regression | 0.85 | 0.85 | 0.85 | 0.85 |\n",
    "| Random Forest | 0.85 | 0.85 | 0.85 | 0.85 |\n",
    "\n",
    "Then, please dump the best model to a joblib/pickle file for submission."
   ]
  },
  {
   "cell_type": "markdown",
   "metadata": {},
   "source": [
    "## Model 1\n",
    "\n",
    "Describe your model here: In this model, we ..."
   ]
  },
  {
   "cell_type": "code",
   "execution_count": null,
   "metadata": {},
   "outputs": [],
   "source": []
  },
  {
   "cell_type": "markdown",
   "metadata": {},
   "source": [
    "# Performance of the best model on the testing data\n",
    "\n",
    "Use the best model to predict the label for the testing data in task_fault testing condition. Report its performance and discuss the possible origins of problems and ways to further improve the model."
   ]
  },
  {
   "cell_type": "code",
   "execution_count": null,
   "metadata": {},
   "outputs": [],
   "source": []
  }
 ],
 "metadata": {
  "language_info": {
   "name": "python"
  }
 },
 "nbformat": 4,
 "nbformat_minor": 2
}
