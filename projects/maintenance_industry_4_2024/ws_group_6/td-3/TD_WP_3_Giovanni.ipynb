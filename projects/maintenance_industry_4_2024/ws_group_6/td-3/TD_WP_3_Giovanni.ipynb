{
 "cells": [
  {
   "cell_type": "markdown",
   "metadata": {},
   "source": [
    "# Exective summary of Work Package 3\n",
    "\n",
    "## Objectives\n",
    "\n",
    "In this WP, you will work on a given training dataset. Your goal is to develop a fault detection model using the regression algorithms learnt in the class, in order to achieve best F1 score。\n",
    "\n",
    "## Tasks\n",
    "\n",
    "- Task 1: Develop a regression model to predict the reference value for motor temperature.\n",
    "- Task 2: Develop a fault detection model using the regression model you developed in Task 1.\n",
    "\n",
    "## Delierables\n",
    "\n",
    "- A Jupyter notebook reporting the process and results of the above tasks\n"
   ]
  },
  {
   "cell_type": "markdown",
   "metadata": {},
   "source": [
    "# Before starting, please:\n",
    "- Fetch the most up-to-date version of the github repository.\n",
    "- Create a new branch with your name, based on the \"main\" branch and switch to your own branch.\n",
    "- Copy this notebook to the work space of your group, and rename it to TD_WP_3_Your name.ipynb\n",
    "- After finishing this task, push your changes to the github repository of your group."
   ]
  },
  {
   "cell_type": "markdown",
   "metadata": {},
   "source": [
    "# Task 1: Predict normal behaviors through regression models\n",
    "\n",
    "In this task, let us try to develop a best regression model to predict the normal behaviors of a given motor. In this exercise, we can use motor 6 as an example. You can easilily generate the approach to other models for the data challenge.\n",
    "\n",
    "We can use all the dataset where motor 6 works normally as our dataset. Then, we can run a cross validation (based on sequence, not points) to test the performances of the developed model.\n",
    "\n",
    "In this example, we mainly use the following performance metrics:\n",
    "- max error: The max error between the predicted and the true values.\n",
    "- Mean root squared error: The mean root squared error between the predicted and the true values.\n",
    "- Out-of-boundary rate: The percentage that the residual error between the predicted and the true values is larger than a given threshold. Here, we set the thresold to be $3$ degree."
   ]
  },
  {
   "cell_type": "markdown",
   "metadata": {},
   "source": [
    "## Sub-task 1: Only use the features at the current moment.\n",
    "\n",
    "[This notebook](demo_regression_mdl.ipynb) provides a basic demonstration of how to set up the experiment. Let us start by considering only using the features from the current moment. In the notebook, we show a baseline using a simple linear regression with all the features. Could you please try to improve the performance of the model?\n",
    "\n",
    "A few possible directions:\n",
    "- Feature selection?\n",
    "- Smoothing?\n",
    "- Removing sequence-to-sequence variablity? Adding features regarding time dynamics (see the TD for last lecture).\n",
    "- Changing to other regression models? For this, you can try different regression models from [here](https://scikit-learn.org/stable/supervised_learning.html)\n",
    "\n",
    "Put your code below."
   ]
  },
  {
   "cell_type": "code",
   "execution_count": 2,
   "metadata": {},
   "outputs": [],
   "source": [
    "# Import the libraries\n",
    "\n",
    "import sys\n",
    "sys.path.insert(0, 'C:/Users/gioca/GitHub/projects/maintenance_industry_4_2024/supporting_scripts/WP_2_20240516/')\n",
    "from utility import read_all_test_data_from_path, extract_selected_feature, prepare_sliding_window, FaultDetectReg, read_all_csvs_one_test, run_cv_one_motor\n",
    "import numpy as np\n",
    "from numpy import where\n",
    "import pandas as pd\n",
    "import seaborn as sns\n",
    "import matplotlib.pyplot as plt\n",
    "from sklearn.pipeline import Pipeline\n",
    "from sklearn.preprocessing import StandardScaler\n",
    "from sklearn.linear_model import LinearRegression\n",
    "from sklearn.neighbors import LocalOutlierFactor\n"
   ]
  },
  {
   "cell_type": "code",
   "execution_count": 3,
   "metadata": {},
   "outputs": [],
   "source": [
    "# Data Reading and Outlier Removal\n",
    "base_dictionary = 'C:/Users/gioca/GitHub/projects/maintenance_industry_4_2024/dataset/training_data/'\n",
    "df_data = read_all_test_data_from_path(base_dictionary, is_plot=False)\n",
    "\n",
    "normal_test_id = ['20240105_164214', '20240105_165300', '20240105_165972', '20240320_152031', '20240320_153841',\n",
    "                  '20240320_155664', '20240321_122650', '20240325_135213', '20240426_141190', '20240426_141532',\n",
    "                  '20240426_141602', '20240426_141726', '20240426_141938', '20240426_141980', '20240503_164435']\n",
    "\n",
    "df_data = df_data[df_data['test_condition'].isin(normal_test_id)]\n",
    "\n",
    "def removeoutliers (df, experiment, feature):\n",
    "\n",
    "    model = LocalOutlierFactor(n_neighbors=20)\n",
    "    df['indice'] = df.reset_index().index\n",
    "    ds = df.loc[df['test_condition'] == experiment]\n",
    "    x = pd.DataFrame(ds, columns=['indice',feature])\n",
    "    model.fit_predict(x)\n",
    "    lof = model.negative_outlier_factor_ \n",
    "    df_out = pd.DataFrame({'indice': x['indice'], 'lof': lof })\n",
    "\n",
    "    return df_out\n",
    "\n",
    "features = ['data_motor_1_position', 'data_motor_1_temperature', 'data_motor_1_voltage', \n",
    "            'data_motor_2_position', 'data_motor_2_temperature', 'data_motor_2_voltage',\n",
    "            'data_motor_3_position', 'data_motor_3_temperature', 'data_motor_3_voltage',\n",
    "            'data_motor_4_position', 'data_motor_4_temperature', 'data_motor_4_voltage',\n",
    "            'data_motor_5_position', 'data_motor_5_temperature', 'data_motor_5_voltage',\n",
    "            'data_motor_6_position', 'data_motor_6_temperature', 'data_motor_6_voltage']\n",
    "\n",
    "for i in range(len(normal_test_id)):\n",
    "    for j in range(len(features)):\n",
    "        outliers = removeoutliers(df_data, normal_test_id[i], features[j])\n",
    "        thresh1 = np.quantile(outliers.lof, 1/3000)\n",
    "        index = where(outliers.lof<=thresh1)\n",
    "        final_index = np.ravel(outliers['indice'].iloc[0] + index)\n",
    "        df_data = df_data[~df_data['indice'].isin(final_index)]"
   ]
  },
  {
   "cell_type": "code",
   "execution_count": 4,
   "metadata": {},
   "outputs": [],
   "source": [
    "# Definition of the Pipeline\n",
    "steps = [\n",
    "    ('standardizer', StandardScaler()),  # Step 1: StandardScaler\n",
    "    ('regressor', LinearRegression())    # Step 2: Linear Regression\n",
    "]\n",
    "\n",
    "# Create the pipeline\n",
    "mdl_linear_regreession = Pipeline(steps)"
   ]
  },
  {
   "cell_type": "code",
   "execution_count": 5,
   "metadata": {},
   "outputs": [
    {
     "name": "stdout",
     "output_type": "stream",
     "text": [
      "Model for motor 6:\n"
     ]
    },
    {
     "name": "stderr",
     "output_type": "stream",
     "text": [
      "c:\\Users\\gioca\\GitHub\\.conda\\Lib\\site-packages\\sklearn\\metrics\\_regression.py:483: FutureWarning: 'squared' is deprecated in version 1.4 and will be removed in 1.6. To calculate the root mean squared error, use the function'root_mean_squared_error'.\n",
      "  warnings.warn(\n",
      "c:\\Users\\gioca\\GitHub\\.conda\\Lib\\site-packages\\sklearn\\metrics\\_regression.py:483: FutureWarning: 'squared' is deprecated in version 1.4 and will be removed in 1.6. To calculate the root mean squared error, use the function'root_mean_squared_error'.\n",
      "  warnings.warn(\n",
      "c:\\Users\\gioca\\GitHub\\.conda\\Lib\\site-packages\\sklearn\\metrics\\_regression.py:483: FutureWarning: 'squared' is deprecated in version 1.4 and will be removed in 1.6. To calculate the root mean squared error, use the function'root_mean_squared_error'.\n",
      "  warnings.warn(\n",
      "c:\\Users\\gioca\\GitHub\\.conda\\Lib\\site-packages\\sklearn\\metrics\\_regression.py:483: FutureWarning: 'squared' is deprecated in version 1.4 and will be removed in 1.6. To calculate the root mean squared error, use the function'root_mean_squared_error'.\n",
      "  warnings.warn(\n"
     ]
    },
    {
     "name": "stdout",
     "output_type": "stream",
     "text": [
      "   Max error      RMSE  Exceed boundary rate\n",
      "0  13.123969  4.521851              0.971376\n",
      "1  12.759905  4.033491              0.990476\n",
      "2  25.193219  4.232480              0.636437\n",
      "3   6.871982  3.701900              0.756065\n",
      "4  10.669683  7.021780              0.874039\n",
      "\n",
      "\n",
      "Mean performance metric and standard error:\n",
      "Max error: 13.7238 +- 6.8759\n",
      "RMSE: 4.7023 +- 1.3305\n",
      "Exceed boundary rate: 0.8457 +- 0.1495\n",
      "\n",
      "\n"
     ]
    },
    {
     "name": "stderr",
     "output_type": "stream",
     "text": [
      "c:\\Users\\gioca\\GitHub\\.conda\\Lib\\site-packages\\sklearn\\metrics\\_regression.py:483: FutureWarning: 'squared' is deprecated in version 1.4 and will be removed in 1.6. To calculate the root mean squared error, use the function'root_mean_squared_error'.\n",
      "  warnings.warn(\n"
     ]
    }
   ],
   "source": [
    "# Model 1: all features\n",
    "threshold = 1\n",
    "df_all_1 = run_cv_one_motor(motor_idx=6, df_data=df_data, mdl=mdl_linear_regreession, feature_list=features, n_fold=5, threshold=threshold, mdl_type='reg', single_run_result=False)"
   ]
  },
  {
   "cell_type": "code",
   "execution_count": 39,
   "metadata": {},
   "outputs": [
    {
     "name": "stdout",
     "output_type": "stream",
     "text": [
      "Model for motor 6:\n"
     ]
    },
    {
     "name": "stderr",
     "output_type": "stream",
     "text": [
      "c:\\Users\\gioca\\GitHub\\.conda\\Lib\\site-packages\\sklearn\\metrics\\_regression.py:483: FutureWarning: 'squared' is deprecated in version 1.4 and will be removed in 1.6. To calculate the root mean squared error, use the function'root_mean_squared_error'.\n",
      "  warnings.warn(\n",
      "c:\\Users\\gioca\\GitHub\\.conda\\Lib\\site-packages\\sklearn\\metrics\\_regression.py:483: FutureWarning: 'squared' is deprecated in version 1.4 and will be removed in 1.6. To calculate the root mean squared error, use the function'root_mean_squared_error'.\n",
      "  warnings.warn(\n",
      "c:\\Users\\gioca\\GitHub\\.conda\\Lib\\site-packages\\sklearn\\metrics\\_regression.py:483: FutureWarning: 'squared' is deprecated in version 1.4 and will be removed in 1.6. To calculate the root mean squared error, use the function'root_mean_squared_error'.\n",
      "  warnings.warn(\n",
      "c:\\Users\\gioca\\GitHub\\.conda\\Lib\\site-packages\\sklearn\\metrics\\_regression.py:483: FutureWarning: 'squared' is deprecated in version 1.4 and will be removed in 1.6. To calculate the root mean squared error, use the function'root_mean_squared_error'.\n",
      "  warnings.warn(\n"
     ]
    },
    {
     "name": "stdout",
     "output_type": "stream",
     "text": [
      "   Max error      RMSE  Exceed boundary rate\n",
      "0   4.852029  2.130532              0.843801\n",
      "1   8.790258  3.273211              0.997143\n",
      "2  53.200395  3.754411              0.825208\n",
      "3   6.705503  3.721872              0.832884\n",
      "4   8.178076  4.778860              0.860438\n",
      "\n",
      "\n",
      "Mean performance metric and standard error:\n",
      "Max error: 16.3453 +- 20.6585\n",
      "RMSE: 3.5318 +- 0.9580\n",
      "Exceed boundary rate: 0.8719 +- 0.0713\n",
      "\n",
      "\n"
     ]
    },
    {
     "name": "stderr",
     "output_type": "stream",
     "text": [
      "c:\\Users\\gioca\\GitHub\\.conda\\Lib\\site-packages\\sklearn\\metrics\\_regression.py:483: FutureWarning: 'squared' is deprecated in version 1.4 and will be removed in 1.6. To calculate the root mean squared error, use the function'root_mean_squared_error'.\n",
      "  warnings.warn(\n"
     ]
    }
   ],
   "source": [
    "# Model 2: feature selection based on correlation matrix\n",
    "\n",
    "X_data = pd.DataFrame(df_data, columns=features)\n",
    "correlation_matrix = X_data.corr()\n",
    "# plt.figure(figsize=(10, 10))  # Adjust width and height as needed\n",
    "# sns.heatmap(correlation_matrix, annot=True, cmap='coolwarm', fmt=\".2f\")\n",
    "threshold = 0.25\n",
    "selected_features_1 = correlation_matrix.columns[correlation_matrix.loc['data_motor_6_temperature'].abs() > threshold].tolist()\n",
    "\n",
    "threshold = 1\n",
    "df_sel_1 = run_cv_one_motor(motor_idx=6, df_data=df_data, mdl=mdl_linear_regreession, feature_list=selected_features_1, n_fold=5, threshold=threshold, mdl_type='reg', single_run_result=False)"
   ]
  },
  {
   "cell_type": "code",
   "execution_count": 7,
   "metadata": {},
   "outputs": [
    {
     "name": "stdout",
     "output_type": "stream",
     "text": [
      "Model for motor 6:\n"
     ]
    },
    {
     "name": "stderr",
     "output_type": "stream",
     "text": [
      "c:\\Users\\gioca\\GitHub\\.conda\\Lib\\site-packages\\sklearn\\metrics\\_regression.py:483: FutureWarning: 'squared' is deprecated in version 1.4 and will be removed in 1.6. To calculate the root mean squared error, use the function'root_mean_squared_error'.\n",
      "  warnings.warn(\n",
      "c:\\Users\\gioca\\GitHub\\.conda\\Lib\\site-packages\\sklearn\\metrics\\_regression.py:483: FutureWarning: 'squared' is deprecated in version 1.4 and will be removed in 1.6. To calculate the root mean squared error, use the function'root_mean_squared_error'.\n",
      "  warnings.warn(\n",
      "c:\\Users\\gioca\\GitHub\\.conda\\Lib\\site-packages\\sklearn\\metrics\\_regression.py:483: FutureWarning: 'squared' is deprecated in version 1.4 and will be removed in 1.6. To calculate the root mean squared error, use the function'root_mean_squared_error'.\n",
      "  warnings.warn(\n",
      "c:\\Users\\gioca\\GitHub\\.conda\\Lib\\site-packages\\sklearn\\metrics\\_regression.py:483: FutureWarning: 'squared' is deprecated in version 1.4 and will be removed in 1.6. To calculate the root mean squared error, use the function'root_mean_squared_error'.\n",
      "  warnings.warn(\n"
     ]
    },
    {
     "name": "stdout",
     "output_type": "stream",
     "text": [
      "   Max error      RMSE  Exceed boundary rate\n",
      "0   9.045765  4.386853              0.975700\n",
      "1  14.139928  4.786639              0.999048\n",
      "2  18.810248  4.028403              0.750693\n",
      "3   6.994967  4.473019              0.754717\n",
      "4   8.126197  4.791908              0.857481\n",
      "\n",
      "\n",
      "Mean performance metric and standard error:\n",
      "Max error: 11.4234 +- 4.9518\n",
      "RMSE: 4.4934 +- 0.3174\n",
      "Exceed boundary rate: 0.8675 +- 0.1178\n",
      "\n",
      "\n"
     ]
    },
    {
     "name": "stderr",
     "output_type": "stream",
     "text": [
      "c:\\Users\\gioca\\GitHub\\.conda\\Lib\\site-packages\\sklearn\\metrics\\_regression.py:483: FutureWarning: 'squared' is deprecated in version 1.4 and will be removed in 1.6. To calculate the root mean squared error, use the function'root_mean_squared_error'.\n",
      "  warnings.warn(\n"
     ]
    }
   ],
   "source": [
    "# Model 3: voltage features excluded\n",
    "\n",
    "features_no_voltage = ['data_motor_1_position', 'data_motor_1_temperature', 'data_motor_2_position', 'data_motor_2_temperature',\n",
    "                       'data_motor_3_position', 'data_motor_3_temperature', 'data_motor_4_position', 'data_motor_4_temperature',\n",
    "                       'data_motor_5_position', 'data_motor_5_temperature', 'data_motor_6_position', 'data_motor_6_temperature']\n",
    "\n",
    "threshold = 1\n",
    "df_no_voltage_1 = run_cv_one_motor(motor_idx=6, df_data=df_data, mdl=mdl_linear_regreession, feature_list=features_no_voltage, n_fold=5, threshold=threshold, mdl_type='reg', single_run_result=False)"
   ]
  },
  {
   "cell_type": "code",
   "execution_count": 8,
   "metadata": {},
   "outputs": [],
   "source": [
    "# Smoothing\n",
    "\n",
    "df_smoothing = df_data.copy()\n",
    "\n",
    "def smoothing(data, experiment, feature, dim):\n",
    "\n",
    "    ds = data.loc[data['test_condition'] == experiment]\n",
    "    ds = pd.DataFrame(ds, columns=['time', 'indice', feature])\n",
    "\n",
    "    ds['aver'] = ds[feature].rolling(dim).mean()\n",
    "\n",
    "    dict = ds.set_index('indice')['aver'].to_dict()\n",
    "    for idx, row in data.iterrows():\n",
    "     if row['indice'] in dict:\n",
    "        data.at[idx, feature] = dict[row['indice']]\n",
    "\n",
    "    return data\n",
    "\n",
    "for i in range(len(normal_test_id)):\n",
    "   for j in range(len(features)):\n",
    "     df_smoothing = smoothing(df_smoothing, normal_test_id[i], features[j], 25)\n",
    "\n",
    "df_smoothing = df_smoothing.dropna()\n"
   ]
  },
  {
   "cell_type": "code",
   "execution_count": 9,
   "metadata": {},
   "outputs": [
    {
     "name": "stdout",
     "output_type": "stream",
     "text": [
      "Model for motor 6:\n"
     ]
    },
    {
     "name": "stderr",
     "output_type": "stream",
     "text": [
      "c:\\Users\\gioca\\GitHub\\.conda\\Lib\\site-packages\\sklearn\\metrics\\_regression.py:483: FutureWarning: 'squared' is deprecated in version 1.4 and will be removed in 1.6. To calculate the root mean squared error, use the function'root_mean_squared_error'.\n",
      "  warnings.warn(\n",
      "c:\\Users\\gioca\\GitHub\\.conda\\Lib\\site-packages\\sklearn\\metrics\\_regression.py:483: FutureWarning: 'squared' is deprecated in version 1.4 and will be removed in 1.6. To calculate the root mean squared error, use the function'root_mean_squared_error'.\n",
      "  warnings.warn(\n",
      "c:\\Users\\gioca\\GitHub\\.conda\\Lib\\site-packages\\sklearn\\metrics\\_regression.py:483: FutureWarning: 'squared' is deprecated in version 1.4 and will be removed in 1.6. To calculate the root mean squared error, use the function'root_mean_squared_error'.\n",
      "  warnings.warn(\n",
      "c:\\Users\\gioca\\GitHub\\.conda\\Lib\\site-packages\\sklearn\\metrics\\_regression.py:483: FutureWarning: 'squared' is deprecated in version 1.4 and will be removed in 1.6. To calculate the root mean squared error, use the function'root_mean_squared_error'.\n",
      "  warnings.warn(\n"
     ]
    },
    {
     "name": "stdout",
     "output_type": "stream",
     "text": [
      "   Max error      RMSE  Exceed boundary rate\n",
      "0  11.234058  4.052878              0.932780\n",
      "1   7.431778  4.517819              0.997955\n",
      "2  22.769134  3.197044              0.824674\n",
      "3   5.396482  2.830593              0.832836\n",
      "4  11.373792  7.575421              0.914762\n",
      "\n",
      "\n",
      "Mean performance metric and standard error:\n",
      "Max error: 11.6410 +- 6.7228\n",
      "RMSE: 4.4348 +- 1.8789\n",
      "Exceed boundary rate: 0.9006 +- 0.0726\n",
      "\n",
      "\n"
     ]
    },
    {
     "name": "stderr",
     "output_type": "stream",
     "text": [
      "c:\\Users\\gioca\\GitHub\\.conda\\Lib\\site-packages\\sklearn\\metrics\\_regression.py:483: FutureWarning: 'squared' is deprecated in version 1.4 and will be removed in 1.6. To calculate the root mean squared error, use the function'root_mean_squared_error'.\n",
      "  warnings.warn(\n"
     ]
    }
   ],
   "source": [
    "# Model 4: all features, data smoothing\n",
    "\n",
    "threshold = 1\n",
    "df_all_2 = run_cv_one_motor(motor_idx=6, df_data=df_smoothing, mdl=mdl_linear_regreession, feature_list=features, n_fold=5, threshold=threshold, mdl_type='reg', single_run_result=False)"
   ]
  },
  {
   "cell_type": "code",
   "execution_count": 38,
   "metadata": {},
   "outputs": [
    {
     "name": "stdout",
     "output_type": "stream",
     "text": [
      "Model for motor 6:\n"
     ]
    },
    {
     "name": "stderr",
     "output_type": "stream",
     "text": [
      "c:\\Users\\gioca\\GitHub\\.conda\\Lib\\site-packages\\sklearn\\metrics\\_regression.py:483: FutureWarning: 'squared' is deprecated in version 1.4 and will be removed in 1.6. To calculate the root mean squared error, use the function'root_mean_squared_error'.\n",
      "  warnings.warn(\n",
      "c:\\Users\\gioca\\GitHub\\.conda\\Lib\\site-packages\\sklearn\\metrics\\_regression.py:483: FutureWarning: 'squared' is deprecated in version 1.4 and will be removed in 1.6. To calculate the root mean squared error, use the function'root_mean_squared_error'.\n",
      "  warnings.warn(\n",
      "c:\\Users\\gioca\\GitHub\\.conda\\Lib\\site-packages\\sklearn\\metrics\\_regression.py:483: FutureWarning: 'squared' is deprecated in version 1.4 and will be removed in 1.6. To calculate the root mean squared error, use the function'root_mean_squared_error'.\n",
      "  warnings.warn(\n",
      "c:\\Users\\gioca\\GitHub\\.conda\\Lib\\site-packages\\sklearn\\metrics\\_regression.py:483: FutureWarning: 'squared' is deprecated in version 1.4 and will be removed in 1.6. To calculate the root mean squared error, use the function'root_mean_squared_error'.\n",
      "  warnings.warn(\n"
     ]
    },
    {
     "name": "stdout",
     "output_type": "stream",
     "text": [
      "   Max error      RMSE  Exceed boundary rate\n",
      "0   5.064896  1.707754              0.553734\n",
      "1   7.875447  3.315229              0.930470\n",
      "2  30.841097  4.771816              0.901095\n",
      "3   7.080855  4.186829              0.973134\n",
      "4   8.806041  5.605110              0.892526\n",
      "\n",
      "\n",
      "Mean performance metric and standard error:\n",
      "Max error: 11.9337 +- 10.6592\n",
      "RMSE: 3.9173 +- 1.4913\n",
      "Exceed boundary rate: 0.8502 +- 0.1687\n",
      "\n",
      "\n"
     ]
    },
    {
     "name": "stderr",
     "output_type": "stream",
     "text": [
      "c:\\Users\\gioca\\GitHub\\.conda\\Lib\\site-packages\\sklearn\\metrics\\_regression.py:483: FutureWarning: 'squared' is deprecated in version 1.4 and will be removed in 1.6. To calculate the root mean squared error, use the function'root_mean_squared_error'.\n",
      "  warnings.warn(\n"
     ]
    }
   ],
   "source": [
    "# Model 5: feature selection based on correlation matrix, data smoothing\n",
    "\n",
    "X_data = pd.DataFrame(df_smoothing, columns=features)\n",
    "correlation_matrix = X_data.corr()\n",
    "# plt.figure(figsize=(10, 10))  # Adjust width and height as needed\n",
    "# sns.heatmap(correlation_matrix, annot=True, cmap='coolwarm', fmt=\".2f\")\n",
    "threshold = 0.25\n",
    "selected_features_2 = correlation_matrix.columns[correlation_matrix.loc['data_motor_6_temperature'].abs() > threshold].tolist()\n",
    "\n",
    "threshold = 1\n",
    "df_sel_2 = run_cv_one_motor(motor_idx=6, df_data=df_smoothing, mdl=mdl_linear_regreession, feature_list=selected_features_2, n_fold=5, threshold=threshold, mdl_type='reg', single_run_result=False)"
   ]
  },
  {
   "cell_type": "code",
   "execution_count": 11,
   "metadata": {},
   "outputs": [
    {
     "name": "stdout",
     "output_type": "stream",
     "text": [
      "Model for motor 6:\n"
     ]
    },
    {
     "name": "stderr",
     "output_type": "stream",
     "text": [
      "c:\\Users\\gioca\\GitHub\\.conda\\Lib\\site-packages\\sklearn\\metrics\\_regression.py:483: FutureWarning: 'squared' is deprecated in version 1.4 and will be removed in 1.6. To calculate the root mean squared error, use the function'root_mean_squared_error'.\n",
      "  warnings.warn(\n",
      "c:\\Users\\gioca\\GitHub\\.conda\\Lib\\site-packages\\sklearn\\metrics\\_regression.py:483: FutureWarning: 'squared' is deprecated in version 1.4 and will be removed in 1.6. To calculate the root mean squared error, use the function'root_mean_squared_error'.\n",
      "  warnings.warn(\n",
      "c:\\Users\\gioca\\GitHub\\.conda\\Lib\\site-packages\\sklearn\\metrics\\_regression.py:483: FutureWarning: 'squared' is deprecated in version 1.4 and will be removed in 1.6. To calculate the root mean squared error, use the function'root_mean_squared_error'.\n",
      "  warnings.warn(\n",
      "c:\\Users\\gioca\\GitHub\\.conda\\Lib\\site-packages\\sklearn\\metrics\\_regression.py:483: FutureWarning: 'squared' is deprecated in version 1.4 and will be removed in 1.6. To calculate the root mean squared error, use the function'root_mean_squared_error'.\n",
      "  warnings.warn(\n"
     ]
    },
    {
     "name": "stdout",
     "output_type": "stream",
     "text": [
      "   Max error      RMSE  Exceed boundary rate\n",
      "0   8.550900  4.464727              0.974274\n",
      "1   8.910532  6.313933              1.000000\n",
      "2   7.194869  4.036268              0.760834\n",
      "3   7.248788  4.774894              0.759701\n",
      "4   7.715723  4.771697              0.854231\n",
      "\n",
      "\n",
      "Mean performance metric and standard error:\n",
      "Max error: 7.9242 +- 0.7741\n",
      "RMSE: 4.8723 +- 0.8607\n",
      "Exceed boundary rate: 0.8698 +- 0.1141\n",
      "\n",
      "\n"
     ]
    },
    {
     "name": "stderr",
     "output_type": "stream",
     "text": [
      "c:\\Users\\gioca\\GitHub\\.conda\\Lib\\site-packages\\sklearn\\metrics\\_regression.py:483: FutureWarning: 'squared' is deprecated in version 1.4 and will be removed in 1.6. To calculate the root mean squared error, use the function'root_mean_squared_error'.\n",
      "  warnings.warn(\n"
     ]
    }
   ],
   "source": [
    "# Model 6: voltage features excluded, data smoothing\n",
    "\n",
    "features_no_voltage = ['data_motor_1_position', 'data_motor_1_temperature', 'data_motor_2_position', 'data_motor_2_temperature',\n",
    "                       'data_motor_3_position', 'data_motor_3_temperature', 'data_motor_4_position', 'data_motor_4_temperature',\n",
    "                       'data_motor_5_position', 'data_motor_5_temperature', 'data_motor_6_position', 'data_motor_6_temperature']\n",
    "\n",
    "threshold = 1\n",
    "df_no_voltage_2 = run_cv_one_motor(motor_idx=6, df_data=df_smoothing, mdl=mdl_linear_regreession, feature_list=features_no_voltage, n_fold=5, threshold=threshold, mdl_type='reg', single_run_result=False)"
   ]
  },
  {
   "cell_type": "code",
   "execution_count": null,
   "metadata": {},
   "outputs": [],
   "source": [
    "# Data preprocessing (prof function)\n",
    "\n",
    "from scipy.signal import butter, filtfilt\n",
    "\n",
    "# Function to design a Butterworth low-pass filter\n",
    "def butter_lowpass(cutoff, fs, order=5):\n",
    "    nyquist = 0.5 * fs\n",
    "    normal_cutoff = cutoff / nyquist\n",
    "    b, a = butter(order, normal_cutoff, btype='low', analog=False)\n",
    "    return b, a\n",
    "\n",
    "# Function to apply the Butterworth low-pass filter\n",
    "def lowpass_filter(data, cutoff_freq, sampling_freq, order=5):\n",
    "    b, a = butter_lowpass(cutoff_freq, sampling_freq, order=order)\n",
    "    filtered_data = filtfilt(b, a, data)\n",
    "    return filtered_data\n",
    "\n",
    "# Set parameters for the low-pass filter\n",
    "cutoff_frequency = .5  # Adjust as needed\n",
    "sampling_frequency = 10  # Assuming your data is evenly spaced in time\n",
    "\n",
    "def customized_outlier_removal(df: pd.DataFrame):\n",
    "    ''' # Description\n",
    "    Remove outliers from the dataframe based on defined valid ranges. \n",
    "    Define a valid range of temperature and voltage. \n",
    "    Use ffil function to replace the invalid measurement with the previous value.\n",
    "    '''\n",
    "    df['position'] = df['position'].where(df['position'] <= 1000, np.nan)\n",
    "    df['position'] = df['position'].where(df['position'] >= 0, np.nan)\n",
    "    df['position'] = df['position'].ffill()\n",
    "    df['position'] = lowpass_filter(df['position'], cutoff_frequency, sampling_frequency)\n",
    "    df['position'] = df['position'].rolling(window=10, min_periods=1).mean()\n",
    "    df['position'] = df['position'].round()\n",
    "\n",
    "    df['temperature'] = df['temperature'].where(df['temperature'] <= 100, np.nan)\n",
    "    df['temperature'] = df['temperature'].where(df['temperature'] >= 0, np.nan)\n",
    "    df['temperature'] = df['temperature'].rolling(window=10, min_periods=1).mean()\n",
    "\n",
    "    # Make sure that the difference between the current and previous temperature cannot be too large.\n",
    "    # Define your threshold\n",
    "    threshold = 10\n",
    "    # Shift the 'temperature' column by one row to get the previous temperature\n",
    "    prev_tmp = df['temperature'].shift(1)\n",
    "    # Calculate the absolute difference between current and previous temperature\n",
    "    temp_diff = np.abs(df['temperature'] - prev_tmp)\n",
    "    # Set the temperature to NaN where the difference is larger than the threshold\n",
    "    df.loc[temp_diff > threshold, 'temperature'] = np.nan\n",
    "    df['temperature'] = df['temperature'].ffill()\n",
    "\n",
    "    df['voltage'] = df['voltage'].where(df['voltage'] >= 6000, np.nan)\n",
    "    df['voltage'] = df['voltage'].where(df['voltage'] <= 8000, np.nan)\n",
    "    df['voltage'] = df['voltage'].ffill()\n",
    "    df['voltage'] = lowpass_filter(df['voltage'], cutoff_frequency, sampling_frequency)\n",
    "    df['voltage'] = df['voltage'].rolling(window=5, min_periods=1).mean()\n",
    "    \n",
    "from utility import read_all_csvs_one_test\n",
    "import matplotlib.pyplot as plt\n",
    "import os\n",
    "\n",
    "# Get all the folders in the base_dictionary\n",
    "path_list = os.listdir(base_dictionary)\n",
    "# Only keep the folders, not the excel file.\n",
    "path_list = path_list[:-1]\n",
    "\n",
    "# Read the data.\n",
    "df_data_smooth = pd.DataFrame()\n",
    "for tmp_path in path_list:\n",
    "    path = base_dictionary + tmp_path\n",
    "    # Read the data with the customized outlier removal function.\n",
    "    tmp_df = read_all_csvs_one_test(path, tmp_path, customized_outlier_removal)\n",
    "    df_data_smooth = pd.concat([df_data_smooth, tmp_df])\n",
    "    df_data_smooth = df_data_smooth.reset_index(drop=True)\n",
    "\n",
    "df_data_smooth = df_data_smooth[df_data_smooth['test_condition'].isin(normal_test_id)]"
   ]
  },
  {
   "cell_type": "code",
   "execution_count": 17,
   "metadata": {},
   "outputs": [
    {
     "name": "stdout",
     "output_type": "stream",
     "text": [
      "Model for motor 6:\n"
     ]
    },
    {
     "name": "stderr",
     "output_type": "stream",
     "text": [
      "c:\\Users\\gioca\\GitHub\\.conda\\Lib\\site-packages\\sklearn\\metrics\\_regression.py:483: FutureWarning: 'squared' is deprecated in version 1.4 and will be removed in 1.6. To calculate the root mean squared error, use the function'root_mean_squared_error'.\n",
      "  warnings.warn(\n",
      "c:\\Users\\gioca\\GitHub\\.conda\\Lib\\site-packages\\sklearn\\metrics\\_regression.py:483: FutureWarning: 'squared' is deprecated in version 1.4 and will be removed in 1.6. To calculate the root mean squared error, use the function'root_mean_squared_error'.\n",
      "  warnings.warn(\n",
      "c:\\Users\\gioca\\GitHub\\.conda\\Lib\\site-packages\\sklearn\\metrics\\_regression.py:483: FutureWarning: 'squared' is deprecated in version 1.4 and will be removed in 1.6. To calculate the root mean squared error, use the function'root_mean_squared_error'.\n",
      "  warnings.warn(\n",
      "c:\\Users\\gioca\\GitHub\\.conda\\Lib\\site-packages\\sklearn\\metrics\\_regression.py:483: FutureWarning: 'squared' is deprecated in version 1.4 and will be removed in 1.6. To calculate the root mean squared error, use the function'root_mean_squared_error'.\n",
      "  warnings.warn(\n"
     ]
    },
    {
     "name": "stdout",
     "output_type": "stream",
     "text": [
      "   Max error      RMSE  Exceed boundary rate\n",
      "0  13.750723  2.979289              0.856284\n",
      "1  10.427738  5.119518              0.983005\n",
      "2   6.817184  3.274084              0.813810\n",
      "3   9.096755  3.665289              0.701493\n",
      "4  14.917425  6.741679              0.911580\n",
      "\n",
      "\n",
      "Mean performance metric and standard error:\n",
      "Max error: 11.0020 +- 3.3301\n",
      "RMSE: 4.3560 +- 1.5666\n",
      "Exceed boundary rate: 0.8532 +- 0.1059\n",
      "\n",
      "\n"
     ]
    },
    {
     "name": "stderr",
     "output_type": "stream",
     "text": [
      "c:\\Users\\gioca\\GitHub\\.conda\\Lib\\site-packages\\sklearn\\metrics\\_regression.py:483: FutureWarning: 'squared' is deprecated in version 1.4 and will be removed in 1.6. To calculate the root mean squared error, use the function'root_mean_squared_error'.\n",
      "  warnings.warn(\n"
     ]
    }
   ],
   "source": [
    "# Model 7: all features, data smoothing (prof function)\n",
    "\n",
    "threshold = 1\n",
    "df_all_3 = run_cv_one_motor(motor_idx=6, df_data=df_data_smooth, mdl=mdl_linear_regreession, feature_list=features, n_fold=5, threshold=threshold, mdl_type='reg', single_run_result=False)"
   ]
  },
  {
   "cell_type": "code",
   "execution_count": 37,
   "metadata": {},
   "outputs": [
    {
     "name": "stdout",
     "output_type": "stream",
     "text": [
      "Model for motor 6:\n"
     ]
    },
    {
     "name": "stderr",
     "output_type": "stream",
     "text": [
      "c:\\Users\\gioca\\GitHub\\.conda\\Lib\\site-packages\\sklearn\\metrics\\_regression.py:483: FutureWarning: 'squared' is deprecated in version 1.4 and will be removed in 1.6. To calculate the root mean squared error, use the function'root_mean_squared_error'.\n",
      "  warnings.warn(\n",
      "c:\\Users\\gioca\\GitHub\\.conda\\Lib\\site-packages\\sklearn\\metrics\\_regression.py:483: FutureWarning: 'squared' is deprecated in version 1.4 and will be removed in 1.6. To calculate the root mean squared error, use the function'root_mean_squared_error'.\n",
      "  warnings.warn(\n",
      "c:\\Users\\gioca\\GitHub\\.conda\\Lib\\site-packages\\sklearn\\metrics\\_regression.py:483: FutureWarning: 'squared' is deprecated in version 1.4 and will be removed in 1.6. To calculate the root mean squared error, use the function'root_mean_squared_error'.\n",
      "  warnings.warn(\n",
      "c:\\Users\\gioca\\GitHub\\.conda\\Lib\\site-packages\\sklearn\\metrics\\_regression.py:483: FutureWarning: 'squared' is deprecated in version 1.4 and will be removed in 1.6. To calculate the root mean squared error, use the function'root_mean_squared_error'.\n",
      "  warnings.warn(\n"
     ]
    },
    {
     "name": "stdout",
     "output_type": "stream",
     "text": [
      "   Max error      RMSE  Exceed boundary rate\n",
      "0   9.799860  1.547442              0.485170\n",
      "1  10.737072  3.281197              0.889982\n",
      "2  10.142434  3.767738              0.706401\n",
      "3  10.477643  4.485158              0.949005\n",
      "4  13.682427  5.568414              0.923560\n",
      "\n",
      "\n",
      "Mean performance metric and standard error:\n",
      "Max error: 10.9679 +- 1.5579\n",
      "RMSE: 3.7300 +- 1.4930\n",
      "Exceed boundary rate: 0.7908 +- 0.1956\n",
      "\n",
      "\n"
     ]
    },
    {
     "name": "stderr",
     "output_type": "stream",
     "text": [
      "c:\\Users\\gioca\\GitHub\\.conda\\Lib\\site-packages\\sklearn\\metrics\\_regression.py:483: FutureWarning: 'squared' is deprecated in version 1.4 and will be removed in 1.6. To calculate the root mean squared error, use the function'root_mean_squared_error'.\n",
      "  warnings.warn(\n"
     ]
    }
   ],
   "source": [
    "# Model 8: feature selection with correlation matrix, data smoothing (prof function)\n",
    "\n",
    "X_data = pd.DataFrame(df_data_smooth, columns=features)\n",
    "correlation_matrix = X_data.corr()\n",
    "# plt.figure(figsize=(10, 10))  # Adjust width and height as needed\n",
    "# sns.heatmap(correlation_matrix, annot=True, cmap='coolwarm', fmt=\".2f\")\n",
    "threshold = 0.25\n",
    "selected_features_3 = correlation_matrix.columns[correlation_matrix.loc['data_motor_6_temperature'].abs() > threshold].tolist()\n",
    "\n",
    "threshold = 1\n",
    "df_sel_3 = run_cv_one_motor(motor_idx=6, df_data=df_data_smooth, mdl=mdl_linear_regreession, feature_list=selected_features_3, n_fold=5, threshold=threshold, mdl_type='reg', single_run_result=False)"
   ]
  },
  {
   "cell_type": "code",
   "execution_count": 19,
   "metadata": {},
   "outputs": [
    {
     "name": "stdout",
     "output_type": "stream",
     "text": [
      "Model for motor 6:\n"
     ]
    },
    {
     "name": "stderr",
     "output_type": "stream",
     "text": [
      "c:\\Users\\gioca\\GitHub\\.conda\\Lib\\site-packages\\sklearn\\metrics\\_regression.py:483: FutureWarning: 'squared' is deprecated in version 1.4 and will be removed in 1.6. To calculate the root mean squared error, use the function'root_mean_squared_error'.\n",
      "  warnings.warn(\n",
      "c:\\Users\\gioca\\GitHub\\.conda\\Lib\\site-packages\\sklearn\\metrics\\_regression.py:483: FutureWarning: 'squared' is deprecated in version 1.4 and will be removed in 1.6. To calculate the root mean squared error, use the function'root_mean_squared_error'.\n",
      "  warnings.warn(\n",
      "c:\\Users\\gioca\\GitHub\\.conda\\Lib\\site-packages\\sklearn\\metrics\\_regression.py:483: FutureWarning: 'squared' is deprecated in version 1.4 and will be removed in 1.6. To calculate the root mean squared error, use the function'root_mean_squared_error'.\n",
      "  warnings.warn(\n",
      "c:\\Users\\gioca\\GitHub\\.conda\\Lib\\site-packages\\sklearn\\metrics\\_regression.py:483: FutureWarning: 'squared' is deprecated in version 1.4 and will be removed in 1.6. To calculate the root mean squared error, use the function'root_mean_squared_error'.\n",
      "  warnings.warn(\n"
     ]
    },
    {
     "name": "stdout",
     "output_type": "stream",
     "text": [
      "   Max error      RMSE  Exceed boundary rate\n",
      "0   8.421144  4.166940              0.976149\n",
      "1   9.366627  6.378738              1.000000\n",
      "2   6.993277  3.917188              0.775907\n",
      "3   7.188595  4.570516              0.753731\n",
      "4   8.316629  4.795391              0.822019\n",
      "\n",
      "\n",
      "Mean performance metric and standard error:\n",
      "Max error: 8.0573 +- 0.9748\n",
      "RMSE: 4.7658 +- 0.9643\n",
      "Exceed boundary rate: 0.8656 +- 0.1148\n",
      "\n",
      "\n"
     ]
    },
    {
     "name": "stderr",
     "output_type": "stream",
     "text": [
      "c:\\Users\\gioca\\GitHub\\.conda\\Lib\\site-packages\\sklearn\\metrics\\_regression.py:483: FutureWarning: 'squared' is deprecated in version 1.4 and will be removed in 1.6. To calculate the root mean squared error, use the function'root_mean_squared_error'.\n",
      "  warnings.warn(\n"
     ]
    }
   ],
   "source": [
    "# Model 9: voltage features excluded, data smoothing (prof function)\n",
    "\n",
    "features_no_voltage = ['data_motor_1_position', 'data_motor_1_temperature', 'data_motor_2_position', 'data_motor_2_temperature',\n",
    "                       'data_motor_3_position', 'data_motor_3_temperature', 'data_motor_4_position', 'data_motor_4_temperature',\n",
    "                       'data_motor_5_position', 'data_motor_5_temperature', 'data_motor_6_position', 'data_motor_6_temperature']\n",
    "\n",
    "threshold = 1\n",
    "df_no_voltage_3 = run_cv_one_motor(motor_idx=6, df_data=df_data_smooth, mdl=mdl_linear_regreession, feature_list=features_no_voltage, n_fold=5, threshold=threshold, mdl_type='reg', single_run_result=False)"
   ]
  },
  {
   "cell_type": "code",
   "execution_count": 29,
   "metadata": {},
   "outputs": [],
   "source": [
    "# Sequence-To-Sequence Variability\n",
    "\n",
    "def compensate_seq_bias(df: pd.DataFrame):\n",
    "    ''' # Description\n",
    "    Adjust for the sequence-to-sequence bias.\n",
    "    '''\n",
    "    # Tranform the features relative to the first data point.\n",
    "    df['temperature'] = df['temperature'] - df['temperature'].iloc[0]\n",
    "    df['voltage'] = df['voltage'] - df['voltage'].iloc[0]\n",
    "    df['position'] = df['position'] - df['position'].iloc[0]\n",
    "\n",
    "def remove_outliers(df: pd.DataFrame):\n",
    "    ''' # Description\n",
    "    Remove outliers from the dataframe based on defined valid ranges. \n",
    "    Define a valid range of temperature and voltage. \n",
    "    Use ffil function to replace the invalid measurement with the previous value.\n",
    "    '''\n",
    "    df['temperature'] = df['temperature'].where(df['temperature'] <= 100, np.nan)\n",
    "    df['temperature'] = df['temperature'].where(df['temperature'] >= 0, np.nan)\n",
    "    df['temperature'] = df['temperature'].ffill()        \n",
    "\n",
    "    df['voltage'] = df['voltage'].where(df['voltage'] >= 6000, np.nan)\n",
    "    df['voltage'] = df['voltage'].where(df['voltage'] <= 9000, np.nan)\n",
    "    df['voltage'] = df['voltage'].ffill()        \n",
    "\n",
    "    df['position'] = df['position'].where(df['position'] >= 0, np.nan)\n",
    "    df['position'] = df['position'].where(df['position'] <= 1000, np.nan)\n",
    "    df['position'] = df['position'].ffill()\n",
    "\n",
    "\n",
    "# Subfunction for data preprocessing.\n",
    "def pre_processing(df: pd.DataFrame):\n",
    "    ''' ### Description\n",
    "    Preprocess the data:\n",
    "    - remove outliers\n",
    "    - Adjust for the sequence-to-sequence bias.\n",
    "    - add new features about the difference between the current and previous n data point.\n",
    "    '''     \n",
    "    # Start processing.\n",
    "    remove_outliers(df)\n",
    "    compensate_seq_bias(df)\n",
    "\n",
    "df_data_sts = read_all_test_data_from_path(base_dictionary, pre_processing, is_plot=False)\n",
    "df_data_sts = df_data_sts[df_data_sts['test_condition'].isin(normal_test_id)]\n",
    "df_data_sts['indice'] = df_data_sts.reset_index().index\n",
    "\n",
    "for i in range(len(normal_test_id)):\n",
    "   for j in range(len(features)):\n",
    "     df_data_sts = smoothing(df_data_sts, normal_test_id[i], features[j], 25)\n",
    "\n",
    "df_data_sts = df_data_sts.dropna()"
   ]
  },
  {
   "cell_type": "code",
   "execution_count": 30,
   "metadata": {},
   "outputs": [
    {
     "name": "stdout",
     "output_type": "stream",
     "text": [
      "Model for motor 6:\n"
     ]
    },
    {
     "name": "stderr",
     "output_type": "stream",
     "text": [
      "c:\\Users\\gioca\\GitHub\\.conda\\Lib\\site-packages\\sklearn\\metrics\\_regression.py:483: FutureWarning: 'squared' is deprecated in version 1.4 and will be removed in 1.6. To calculate the root mean squared error, use the function'root_mean_squared_error'.\n",
      "  warnings.warn(\n",
      "c:\\Users\\gioca\\GitHub\\.conda\\Lib\\site-packages\\sklearn\\metrics\\_regression.py:483: FutureWarning: 'squared' is deprecated in version 1.4 and will be removed in 1.6. To calculate the root mean squared error, use the function'root_mean_squared_error'.\n",
      "  warnings.warn(\n",
      "c:\\Users\\gioca\\GitHub\\.conda\\Lib\\site-packages\\sklearn\\metrics\\_regression.py:483: FutureWarning: 'squared' is deprecated in version 1.4 and will be removed in 1.6. To calculate the root mean squared error, use the function'root_mean_squared_error'.\n",
      "  warnings.warn(\n",
      "c:\\Users\\gioca\\GitHub\\.conda\\Lib\\site-packages\\sklearn\\metrics\\_regression.py:483: FutureWarning: 'squared' is deprecated in version 1.4 and will be removed in 1.6. To calculate the root mean squared error, use the function'root_mean_squared_error'.\n",
      "  warnings.warn(\n"
     ]
    },
    {
     "name": "stdout",
     "output_type": "stream",
     "text": [
      "   Max error      RMSE  Exceed boundary rate\n",
      "0  12.700275  5.339700              0.962830\n",
      "1  11.121603  2.158902              0.499044\n",
      "2  11.451561  5.508573              0.829119\n",
      "3  11.406325  4.560663              0.857923\n",
      "4  14.814753  9.382691              0.897085\n",
      "\n",
      "\n",
      "Mean performance metric and standard error:\n",
      "Max error: 12.2989 +- 1.5323\n",
      "RMSE: 5.3901 +- 2.6022\n",
      "Exceed boundary rate: 0.8092 +- 0.1805\n",
      "\n",
      "\n"
     ]
    },
    {
     "name": "stderr",
     "output_type": "stream",
     "text": [
      "c:\\Users\\gioca\\GitHub\\.conda\\Lib\\site-packages\\sklearn\\metrics\\_regression.py:483: FutureWarning: 'squared' is deprecated in version 1.4 and will be removed in 1.6. To calculate the root mean squared error, use the function'root_mean_squared_error'.\n",
      "  warnings.warn(\n"
     ]
    }
   ],
   "source": [
    "# Model 10: all features, sequence-to-sequence variability\n",
    "\n",
    "threshold = 1\n",
    "df_all_smooth_4 = run_cv_one_motor(motor_idx=6, df_data=df_data_sts, mdl=mdl_linear_regreession, feature_list=features, n_fold=5, threshold=threshold, mdl_type='reg', single_run_result=False)"
   ]
  },
  {
   "cell_type": "code",
   "execution_count": 36,
   "metadata": {},
   "outputs": [
    {
     "name": "stdout",
     "output_type": "stream",
     "text": [
      "Model for motor 6:\n"
     ]
    },
    {
     "name": "stderr",
     "output_type": "stream",
     "text": [
      "c:\\Users\\gioca\\GitHub\\.conda\\Lib\\site-packages\\sklearn\\metrics\\_regression.py:483: FutureWarning: 'squared' is deprecated in version 1.4 and will be removed in 1.6. To calculate the root mean squared error, use the function'root_mean_squared_error'.\n",
      "  warnings.warn(\n",
      "c:\\Users\\gioca\\GitHub\\.conda\\Lib\\site-packages\\sklearn\\metrics\\_regression.py:483: FutureWarning: 'squared' is deprecated in version 1.4 and will be removed in 1.6. To calculate the root mean squared error, use the function'root_mean_squared_error'.\n",
      "  warnings.warn(\n",
      "c:\\Users\\gioca\\GitHub\\.conda\\Lib\\site-packages\\sklearn\\metrics\\_regression.py:483: FutureWarning: 'squared' is deprecated in version 1.4 and will be removed in 1.6. To calculate the root mean squared error, use the function'root_mean_squared_error'.\n",
      "  warnings.warn(\n",
      "c:\\Users\\gioca\\GitHub\\.conda\\Lib\\site-packages\\sklearn\\metrics\\_regression.py:483: FutureWarning: 'squared' is deprecated in version 1.4 and will be removed in 1.6. To calculate the root mean squared error, use the function'root_mean_squared_error'.\n",
      "  warnings.warn(\n"
     ]
    },
    {
     "name": "stdout",
     "output_type": "stream",
     "text": [
      "   Max error      RMSE  Exceed boundary rate\n",
      "0  10.844163  1.416390              0.286066\n",
      "1   8.201481  1.305687              0.207457\n",
      "2  10.460351  3.488934              0.780395\n",
      "3   4.759013  1.976267              0.465847\n",
      "4  10.542505  4.682321              0.872100\n",
      "\n",
      "\n",
      "Mean performance metric and standard error:\n",
      "Max error: 8.9615 +- 2.5753\n",
      "RMSE: 2.5739 +- 1.4653\n",
      "Exceed boundary rate: 0.5224 +- 0.2946\n",
      "\n",
      "\n"
     ]
    },
    {
     "name": "stderr",
     "output_type": "stream",
     "text": [
      "c:\\Users\\gioca\\GitHub\\.conda\\Lib\\site-packages\\sklearn\\metrics\\_regression.py:483: FutureWarning: 'squared' is deprecated in version 1.4 and will be removed in 1.6. To calculate the root mean squared error, use the function'root_mean_squared_error'.\n",
      "  warnings.warn(\n"
     ]
    }
   ],
   "source": [
    "# Model 11: feature selection with correlation matrix, sequence-to-sequence variability\n",
    "\n",
    "X_data = pd.DataFrame(df_data_sts, columns=features)\n",
    "correlation_matrix = X_data.corr()\n",
    "# plt.figure(figsize=(10, 10))  # Adjust width and height as needed\n",
    "# sns.heatmap(correlation_matrix, annot=True, cmap='coolwarm', fmt=\".2f\")\n",
    "threshold = 0.25\n",
    "selected_features_4 = correlation_matrix.columns[correlation_matrix.loc['data_motor_6_temperature'].abs() > threshold].tolist()\n",
    "\n",
    "threshold = 1\n",
    "df_sel_4 = run_cv_one_motor(motor_idx=6, df_data=df_data_sts, mdl=mdl_linear_regreession, feature_list=selected_features_4, n_fold=5, threshold=threshold, mdl_type='reg', single_run_result=False)"
   ]
  },
  {
   "cell_type": "code",
   "execution_count": 32,
   "metadata": {},
   "outputs": [
    {
     "name": "stdout",
     "output_type": "stream",
     "text": [
      "Model for motor 6:\n"
     ]
    },
    {
     "name": "stderr",
     "output_type": "stream",
     "text": [
      "c:\\Users\\gioca\\GitHub\\.conda\\Lib\\site-packages\\sklearn\\metrics\\_regression.py:483: FutureWarning: 'squared' is deprecated in version 1.4 and will be removed in 1.6. To calculate the root mean squared error, use the function'root_mean_squared_error'.\n",
      "  warnings.warn(\n",
      "c:\\Users\\gioca\\GitHub\\.conda\\Lib\\site-packages\\sklearn\\metrics\\_regression.py:483: FutureWarning: 'squared' is deprecated in version 1.4 and will be removed in 1.6. To calculate the root mean squared error, use the function'root_mean_squared_error'.\n",
      "  warnings.warn(\n",
      "c:\\Users\\gioca\\GitHub\\.conda\\Lib\\site-packages\\sklearn\\metrics\\_regression.py:483: FutureWarning: 'squared' is deprecated in version 1.4 and will be removed in 1.6. To calculate the root mean squared error, use the function'root_mean_squared_error'.\n",
      "  warnings.warn(\n",
      "c:\\Users\\gioca\\GitHub\\.conda\\Lib\\site-packages\\sklearn\\metrics\\_regression.py:483: FutureWarning: 'squared' is deprecated in version 1.4 and will be removed in 1.6. To calculate the root mean squared error, use the function'root_mean_squared_error'.\n",
      "  warnings.warn(\n"
     ]
    },
    {
     "name": "stdout",
     "output_type": "stream",
     "text": [
      "   Max error      RMSE  Exceed boundary rate\n",
      "0  12.383555  3.574975              0.929972\n",
      "1   4.378222  1.968402              0.410134\n",
      "2  11.505006  5.834052              0.859601\n",
      "3   6.408303  2.665664              0.531421\n",
      "4  13.818204  7.554588              0.982748\n",
      "\n",
      "\n",
      "Mean performance metric and standard error:\n",
      "Max error: 9.6987 +- 4.0797\n",
      "RMSE: 4.3195 +- 2.3225\n",
      "Exceed boundary rate: 0.7428 +- 0.2557\n",
      "\n",
      "\n"
     ]
    },
    {
     "name": "stderr",
     "output_type": "stream",
     "text": [
      "c:\\Users\\gioca\\GitHub\\.conda\\Lib\\site-packages\\sklearn\\metrics\\_regression.py:483: FutureWarning: 'squared' is deprecated in version 1.4 and will be removed in 1.6. To calculate the root mean squared error, use the function'root_mean_squared_error'.\n",
      "  warnings.warn(\n"
     ]
    }
   ],
   "source": [
    "# Model 12: voltage features excluded, sequence-to-sequence variability\n",
    "\n",
    "features_no_voltage = ['data_motor_1_position', 'data_motor_1_temperature', 'data_motor_2_position', 'data_motor_2_temperature',\n",
    "                       'data_motor_3_position', 'data_motor_3_temperature', 'data_motor_4_position', 'data_motor_4_temperature',\n",
    "                       'data_motor_5_position', 'data_motor_5_temperature', 'data_motor_6_position', 'data_motor_6_temperature']\n",
    "\n",
    "threshold = 1\n",
    "df_no_voltage_4 = run_cv_one_motor(motor_idx=6, df_data=df_data_sts, mdl=mdl_linear_regreession, feature_list=features_no_voltage, n_fold=5, threshold=threshold, mdl_type='reg', single_run_result=False)"
   ]
  },
  {
   "cell_type": "markdown",
   "metadata": {},
   "source": [
    "**Summary of the results - Only using features from the current moment**\n",
    "\n",
    "Please add a table in the end, summarying the results from all the models. Please write a few texts to explain what is the best model you got (including the features and preprocessing you did), its performance, and how could you further improve it.\n",
    "\n",
    "| Model   | Max error | MRSE | Exceed boundary rate |\n",
    "|---------|----------|-----------|--------|\n",
    "| 1. All Features |   13,70 +- 6,83  |   4,70 +- 1,33   |  0,85 +- 0,15 | \n",
    "| 2. Selected Features |   16,35 +- 20,66  |   3,53 +- 0,96   |  0,87 +- 0,07 | \n",
    "| 3. No Voltage Features |   11,42 +- 4,95  |   4,49 +- 0,32   |  0,87 +- 0,12 | \n",
    "| 4. All Features, Smoothing (1) |   11,64 +- 6,72  |   4,43 +- 1,88   |  0,90 +- 0,07 | \n",
    "| 5. Selected Features, Smoothing (1) |   11,93 +- 10,66  |   3,92 +- 1,49   |  0,85 +- 0,17 | \n",
    "| 6. No Voltage Features, Smoothing (1) |   7,92 +- 0,77  |   4,87 +- 0,86   |  0,87 +- 0,11 | \n",
    "| 7. All Features, Smoothing (2) |   11,00 +- 3,33  |   4,36 +- 1,57   |  0,85 +- 0,11 | \n",
    "| 8. Selected Features, Smoothing (2) |   10,97 +- 1,56  |   3,73 +- 1,49   |  0,79 +- 0,20 | \n",
    "| 9. No Voltage Features, Smoothing (2) |   8,06 +- 0,97  |   4,77 +- 0,96   |  0,87 +- 0,11 | \n",
    "| 10. All Features, Smoothing (1), STS Variability |   12,30 +- 1,53  |   5,39 +- 2,60   |  0,81 +- 0,18 | \n",
    "| 11. Selected Features, Smoothing (1), STS Variability |   8,97 +- 2,58  |   2,57 +- 1,47   |  0,52 +- 0,30 | \n",
    "| 12. No Voltage Features, Smoothing (1), STS Variability |   9,70 +- 4,08  |   4,32 +- 2,32   |  0,74 +- 0,26 | "
   ]
  },
  {
   "cell_type": "markdown",
   "metadata": {},
   "source": [
    "## Sub-task 2: Include the features in the past\n",
    "\n",
    "Now, let's consider using the sliding window approach to include the past in the regression model as well. Please have a look at the demo notebook, run your experiment, and report the best models you could have if you apply the sliding window approach."
   ]
  },
  {
   "cell_type": "code",
   "execution_count": 43,
   "metadata": {},
   "outputs": [
    {
     "name": "stdout",
     "output_type": "stream",
     "text": [
      "Model for motor 6:\n"
     ]
    },
    {
     "name": "stderr",
     "output_type": "stream",
     "text": [
      "c:\\Users\\gioca\\GitHub\\.conda\\Lib\\site-packages\\sklearn\\metrics\\_regression.py:483: FutureWarning: 'squared' is deprecated in version 1.4 and will be removed in 1.6. To calculate the root mean squared error, use the function'root_mean_squared_error'.\n",
      "  warnings.warn(\n",
      "c:\\Users\\gioca\\GitHub\\.conda\\Lib\\site-packages\\sklearn\\metrics\\_regression.py:483: FutureWarning: 'squared' is deprecated in version 1.4 and will be removed in 1.6. To calculate the root mean squared error, use the function'root_mean_squared_error'.\n",
      "  warnings.warn(\n",
      "c:\\Users\\gioca\\GitHub\\.conda\\Lib\\site-packages\\sklearn\\metrics\\_regression.py:483: FutureWarning: 'squared' is deprecated in version 1.4 and will be removed in 1.6. To calculate the root mean squared error, use the function'root_mean_squared_error'.\n",
      "  warnings.warn(\n",
      "c:\\Users\\gioca\\GitHub\\.conda\\Lib\\site-packages\\sklearn\\metrics\\_regression.py:483: FutureWarning: 'squared' is deprecated in version 1.4 and will be removed in 1.6. To calculate the root mean squared error, use the function'root_mean_squared_error'.\n",
      "  warnings.warn(\n"
     ]
    },
    {
     "name": "stdout",
     "output_type": "stream",
     "text": [
      "   Max error      RMSE  Exceed boundary rate\n",
      "0   0.077735  0.009400                   0.0\n",
      "1   0.045861  0.005161                   0.0\n",
      "2   0.075032  0.006676                   0.0\n",
      "3   0.048285  0.008286                   0.0\n",
      "4   0.069005  0.008397                   0.0\n",
      "\n",
      "\n",
      "Mean performance metric and standard error:\n",
      "Max error: 0.0632 +- 0.0151\n",
      "RMSE: 0.0076 +- 0.0017\n",
      "Exceed boundary rate: 0.0000 +- 0.0000\n",
      "\n",
      "\n"
     ]
    },
    {
     "name": "stderr",
     "output_type": "stream",
     "text": [
      "c:\\Users\\gioca\\GitHub\\.conda\\Lib\\site-packages\\sklearn\\metrics\\_regression.py:483: FutureWarning: 'squared' is deprecated in version 1.4 and will be removed in 1.6. To calculate the root mean squared error, use the function'root_mean_squared_error'.\n",
      "  warnings.warn(\n"
     ]
    }
   ],
   "source": [
    "# Model 11, window = 5, sample = 1\n",
    "\n",
    "threshold = 1\n",
    "window_size = 5\n",
    "sample_step = 1\n",
    "prediction_lead_time = 1 # We add the temperature measurement up to 1 point before the current time.\n",
    "\n",
    "df_sel_4_window_1 = run_cv_one_motor(motor_idx=6, df_data=df_data_sts, mdl=mdl_linear_regreession, feature_list=selected_features_4, \n",
    "                            window_size=window_size, sample_step=sample_step, n_fold=5, threshold=threshold, mdl_type='reg', single_run_result=False)"
   ]
  },
  {
   "cell_type": "code",
   "execution_count": 44,
   "metadata": {},
   "outputs": [
    {
     "name": "stdout",
     "output_type": "stream",
     "text": [
      "Model for motor 6:\n"
     ]
    },
    {
     "name": "stderr",
     "output_type": "stream",
     "text": [
      "c:\\Users\\gioca\\GitHub\\.conda\\Lib\\site-packages\\sklearn\\metrics\\_regression.py:483: FutureWarning: 'squared' is deprecated in version 1.4 and will be removed in 1.6. To calculate the root mean squared error, use the function'root_mean_squared_error'.\n",
      "  warnings.warn(\n",
      "c:\\Users\\gioca\\GitHub\\.conda\\Lib\\site-packages\\sklearn\\metrics\\_regression.py:483: FutureWarning: 'squared' is deprecated in version 1.4 and will be removed in 1.6. To calculate the root mean squared error, use the function'root_mean_squared_error'.\n",
      "  warnings.warn(\n",
      "c:\\Users\\gioca\\GitHub\\.conda\\Lib\\site-packages\\sklearn\\metrics\\_regression.py:483: FutureWarning: 'squared' is deprecated in version 1.4 and will be removed in 1.6. To calculate the root mean squared error, use the function'root_mean_squared_error'.\n",
      "  warnings.warn(\n",
      "c:\\Users\\gioca\\GitHub\\.conda\\Lib\\site-packages\\sklearn\\metrics\\_regression.py:483: FutureWarning: 'squared' is deprecated in version 1.4 and will be removed in 1.6. To calculate the root mean squared error, use the function'root_mean_squared_error'.\n",
      "  warnings.warn(\n"
     ]
    },
    {
     "name": "stdout",
     "output_type": "stream",
     "text": [
      "   Max error      RMSE  Exceed boundary rate\n",
      "0   0.485490  0.062810                   0.0\n",
      "1   0.406472  0.078682                   0.0\n",
      "2   0.584822  0.080506                   0.0\n",
      "3   0.479464  0.156094                   0.0\n",
      "4   0.593500  0.134200                   0.0\n",
      "\n",
      "\n",
      "Mean performance metric and standard error:\n",
      "Max error: 0.5099 +- 0.0788\n",
      "RMSE: 0.1025 +- 0.0403\n",
      "Exceed boundary rate: 0.0000 +- 0.0000\n",
      "\n",
      "\n"
     ]
    },
    {
     "name": "stderr",
     "output_type": "stream",
     "text": [
      "c:\\Users\\gioca\\GitHub\\.conda\\Lib\\site-packages\\sklearn\\metrics\\_regression.py:483: FutureWarning: 'squared' is deprecated in version 1.4 and will be removed in 1.6. To calculate the root mean squared error, use the function'root_mean_squared_error'.\n",
      "  warnings.warn(\n"
     ]
    }
   ],
   "source": [
    "# Model 11, window = 50, sample = 10\n",
    "\n",
    "threshold = 1\n",
    "window_size = 50\n",
    "sample_step = 10\n",
    "prediction_lead_time = 1 # We add the temperature measurement up to 1 point before the current time.\n",
    "\n",
    "df_sel_4_window_2 = run_cv_one_motor(motor_idx=6, df_data=df_data_sts, mdl=mdl_linear_regreession, feature_list=selected_features_4, \n",
    "                            window_size=window_size, sample_step=sample_step, n_fold=5, threshold=threshold, mdl_type='reg', single_run_result=False)"
   ]
  },
  {
   "cell_type": "code",
   "execution_count": 46,
   "metadata": {},
   "outputs": [
    {
     "name": "stdout",
     "output_type": "stream",
     "text": [
      "Model for motor 6:\n"
     ]
    },
    {
     "name": "stderr",
     "output_type": "stream",
     "text": [
      "c:\\Users\\gioca\\GitHub\\.conda\\Lib\\site-packages\\sklearn\\metrics\\_regression.py:483: FutureWarning: 'squared' is deprecated in version 1.4 and will be removed in 1.6. To calculate the root mean squared error, use the function'root_mean_squared_error'.\n",
      "  warnings.warn(\n",
      "c:\\Users\\gioca\\GitHub\\.conda\\Lib\\site-packages\\sklearn\\metrics\\_regression.py:483: FutureWarning: 'squared' is deprecated in version 1.4 and will be removed in 1.6. To calculate the root mean squared error, use the function'root_mean_squared_error'.\n",
      "  warnings.warn(\n",
      "c:\\Users\\gioca\\GitHub\\.conda\\Lib\\site-packages\\sklearn\\metrics\\_regression.py:483: FutureWarning: 'squared' is deprecated in version 1.4 and will be removed in 1.6. To calculate the root mean squared error, use the function'root_mean_squared_error'.\n",
      "  warnings.warn(\n",
      "c:\\Users\\gioca\\GitHub\\.conda\\Lib\\site-packages\\sklearn\\metrics\\_regression.py:483: FutureWarning: 'squared' is deprecated in version 1.4 and will be removed in 1.6. To calculate the root mean squared error, use the function'root_mean_squared_error'.\n",
      "  warnings.warn(\n"
     ]
    },
    {
     "name": "stdout",
     "output_type": "stream",
     "text": [
      "   Max error      RMSE  Exceed boundary rate\n",
      "0   1.018586  0.165502              0.004639\n",
      "1   1.002757  0.095527              0.000963\n",
      "2   1.179037  0.122841              0.003008\n",
      "3   1.026351  0.146347              0.002740\n",
      "4   1.021543  0.148666              0.005360\n",
      "\n",
      "\n",
      "Mean performance metric and standard error:\n",
      "Max error: 1.0497 +- 0.0729\n",
      "RMSE: 0.1358 +- 0.0272\n",
      "Exceed boundary rate: 0.0033 +- 0.0017\n",
      "\n",
      "\n"
     ]
    },
    {
     "name": "stderr",
     "output_type": "stream",
     "text": [
      "c:\\Users\\gioca\\GitHub\\.conda\\Lib\\site-packages\\sklearn\\metrics\\_regression.py:483: FutureWarning: 'squared' is deprecated in version 1.4 and will be removed in 1.6. To calculate the root mean squared error, use the function'root_mean_squared_error'.\n",
      "  warnings.warn(\n"
     ]
    }
   ],
   "source": [
    "# Model 2, window = 5, sample = 1\n",
    "\n",
    "threshold = 1\n",
    "window_size = 5\n",
    "sample_step = 1\n",
    "prediction_lead_time = 1 # We add the temperature measurement up to 1 point before the current time.\n",
    "\n",
    "df_sel_1_window_1 = run_cv_one_motor(motor_idx=6, df_data=df_data, mdl=mdl_linear_regreession, feature_list=selected_features_1, \n",
    "                            window_size=window_size, sample_step=sample_step, n_fold=5, threshold=threshold, mdl_type='reg', single_run_result=False)"
   ]
  },
  {
   "cell_type": "code",
   "execution_count": 47,
   "metadata": {},
   "outputs": [
    {
     "name": "stdout",
     "output_type": "stream",
     "text": [
      "Model for motor 6:\n"
     ]
    },
    {
     "name": "stderr",
     "output_type": "stream",
     "text": [
      "c:\\Users\\gioca\\GitHub\\.conda\\Lib\\site-packages\\sklearn\\metrics\\_regression.py:483: FutureWarning: 'squared' is deprecated in version 1.4 and will be removed in 1.6. To calculate the root mean squared error, use the function'root_mean_squared_error'.\n",
      "  warnings.warn(\n",
      "c:\\Users\\gioca\\GitHub\\.conda\\Lib\\site-packages\\sklearn\\metrics\\_regression.py:483: FutureWarning: 'squared' is deprecated in version 1.4 and will be removed in 1.6. To calculate the root mean squared error, use the function'root_mean_squared_error'.\n",
      "  warnings.warn(\n",
      "c:\\Users\\gioca\\GitHub\\.conda\\Lib\\site-packages\\sklearn\\metrics\\_regression.py:483: FutureWarning: 'squared' is deprecated in version 1.4 and will be removed in 1.6. To calculate the root mean squared error, use the function'root_mean_squared_error'.\n",
      "  warnings.warn(\n",
      "c:\\Users\\gioca\\GitHub\\.conda\\Lib\\site-packages\\sklearn\\metrics\\_regression.py:483: FutureWarning: 'squared' is deprecated in version 1.4 and will be removed in 1.6. To calculate the root mean squared error, use the function'root_mean_squared_error'.\n",
      "  warnings.warn(\n"
     ]
    },
    {
     "name": "stdout",
     "output_type": "stream",
     "text": [
      "   Max error      RMSE  Exceed boundary rate\n",
      "0   1.038431  0.165787              0.004433\n",
      "1   1.045970  0.093914              0.002890\n",
      "2   1.086477  0.123664              0.002198\n",
      "3   1.033289  0.144928              0.004110\n",
      "4   1.337769  0.153866              0.003574\n",
      "\n",
      "\n",
      "Mean performance metric and standard error:\n",
      "Max error: 1.1084 +- 0.1299\n",
      "RMSE: 0.1364 +- 0.0283\n",
      "Exceed boundary rate: 0.0034 +- 0.0009\n",
      "\n",
      "\n"
     ]
    },
    {
     "name": "stderr",
     "output_type": "stream",
     "text": [
      "c:\\Users\\gioca\\GitHub\\.conda\\Lib\\site-packages\\sklearn\\metrics\\_regression.py:483: FutureWarning: 'squared' is deprecated in version 1.4 and will be removed in 1.6. To calculate the root mean squared error, use the function'root_mean_squared_error'.\n",
      "  warnings.warn(\n"
     ]
    }
   ],
   "source": [
    "# Model 1, window = 5, sample = 1\n",
    "\n",
    "threshold = 1\n",
    "window_size = 5\n",
    "sample_step = 1\n",
    "prediction_lead_time = 1 # We add the temperature measurement up to 1 point before the current time.\n",
    "\n",
    "df_all_1_window_1 = run_cv_one_motor(motor_idx=6, df_data=df_data, mdl=mdl_linear_regreession, feature_list=features, \n",
    "                            window_size=window_size, sample_step=sample_step, n_fold=5, threshold=threshold, mdl_type='reg', single_run_result=False)"
   ]
  },
  {
   "cell_type": "code",
   "execution_count": 49,
   "metadata": {},
   "outputs": [
    {
     "name": "stdout",
     "output_type": "stream",
     "text": [
      "Model for motor 6:\n"
     ]
    },
    {
     "name": "stderr",
     "output_type": "stream",
     "text": [
      "c:\\Users\\gioca\\GitHub\\.conda\\Lib\\site-packages\\sklearn\\metrics\\_regression.py:483: FutureWarning: 'squared' is deprecated in version 1.4 and will be removed in 1.6. To calculate the root mean squared error, use the function'root_mean_squared_error'.\n",
      "  warnings.warn(\n",
      "c:\\Users\\gioca\\GitHub\\.conda\\Lib\\site-packages\\sklearn\\metrics\\_regression.py:483: FutureWarning: 'squared' is deprecated in version 1.4 and will be removed in 1.6. To calculate the root mean squared error, use the function'root_mean_squared_error'.\n",
      "  warnings.warn(\n",
      "c:\\Users\\gioca\\GitHub\\.conda\\Lib\\site-packages\\sklearn\\metrics\\_regression.py:483: FutureWarning: 'squared' is deprecated in version 1.4 and will be removed in 1.6. To calculate the root mean squared error, use the function'root_mean_squared_error'.\n",
      "  warnings.warn(\n",
      "c:\\Users\\gioca\\GitHub\\.conda\\Lib\\site-packages\\sklearn\\metrics\\_regression.py:483: FutureWarning: 'squared' is deprecated in version 1.4 and will be removed in 1.6. To calculate the root mean squared error, use the function'root_mean_squared_error'.\n",
      "  warnings.warn(\n"
     ]
    },
    {
     "name": "stdout",
     "output_type": "stream",
     "text": [
      "   Max error      RMSE  Exceed boundary rate\n",
      "0   0.195311  0.028188                   0.0\n",
      "1   0.294448  0.041021                   0.0\n",
      "2   0.261043  0.042239                   0.0\n",
      "3   0.279116  0.077031                   0.0\n",
      "4   0.238772  0.060632                   0.0\n",
      "\n",
      "\n",
      "Mean performance metric and standard error:\n",
      "Max error: 0.2537 +- 0.0387\n",
      "RMSE: 0.0498 +- 0.0191\n",
      "Exceed boundary rate: 0.0000 +- 0.0000\n",
      "\n",
      "\n"
     ]
    },
    {
     "name": "stderr",
     "output_type": "stream",
     "text": [
      "c:\\Users\\gioca\\GitHub\\.conda\\Lib\\site-packages\\sklearn\\metrics\\_regression.py:483: FutureWarning: 'squared' is deprecated in version 1.4 and will be removed in 1.6. To calculate the root mean squared error, use the function'root_mean_squared_error'.\n",
      "  warnings.warn(\n"
     ]
    }
   ],
   "source": [
    "# Model 11, window = 5, sample = 3\n",
    "\n",
    "threshold = 1\n",
    "window_size = 5\n",
    "sample_step = 3\n",
    "prediction_lead_time = 1 # We add the temperature measurement up to 1 point before the current time.\n",
    "\n",
    "df_sel_4_window_1 = run_cv_one_motor(motor_idx=6, df_data=df_data_sts, mdl=mdl_linear_regreession, feature_list=selected_features_4, \n",
    "                            window_size=window_size, sample_step=sample_step, n_fold=5, threshold=threshold, mdl_type='reg', single_run_result=False)"
   ]
  },
  {
   "cell_type": "markdown",
   "metadata": {},
   "source": [
    "**Summary of the results - Sliding window**\n",
    "\n",
    "Please add a table in the end, summarying the results from all the models. Please write a few texts to explain what is the best model you got (including the features and preprocessing you did), its performance, and how could you further improve it.\n",
    "\n",
    "| Model   (also report parameters like window_size, sample_step, prediction_lead_time, etc.) | Max error | MRSE | Exceed boundary rate |\n",
    "|---------|----------|-----------|--------|\n",
    "| Model 1 |   XX.X%  |   XX.X%   |  XX.X% | \n",
    "| Model 2 |   XX.X%  |   XX.X%   |  XX.X% | \n",
    "| Model 3 |   XX.X%  |   XX.X%   |  XX.X% | "
   ]
  },
  {
   "cell_type": "markdown",
   "metadata": {},
   "source": [
    "# Task 2 Fault detection based on regression model\n",
    "\n",
    "In this exercise, we use the dataset that contains the failure of motor 6 to test the fault detection model based on the regression model trained before. \n",
    "\n",
    "[This notebook](demo_FaultDetectReg.ipynb) presents a demonstration of how to use the provided supporting function to develop fault detection model based on the regression model. Please have a look at this notebook, and try to improve the performance of the baseline model."
   ]
  },
  {
   "cell_type": "code",
   "execution_count": null,
   "metadata": {},
   "outputs": [],
   "source": [
    "# Your code here:"
   ]
  },
  {
   "cell_type": "markdown",
   "metadata": {},
   "source": [
    "## Summary of the results\n",
    "\n",
    "Please add a table in the end, summarying the results from all the models (including the unsupervised learning models). Please write a few texts to explain what is the best model you got (including key parameters like threshold, window_size, sample_step, prediction_lead_time, etc), its performance, and how could you further improve it.\n",
    "\n",
    "| Model   | Accuracy | Precision | Recall | F1   |\n",
    "|---------|----------|-----------|--------|------|\n",
    "| Model 1 |   XX.X%  |   XX.X%   |  XX.X% | XX.X%|\n",
    "| Model 2 |   XX.X%  |   XX.X%   |  XX.X% | XX.X%|\n",
    "| Model 3 |   XX.X%  |   XX.X%   |  XX.X% | XX.X%|\n"
   ]
  }
 ],
 "metadata": {
  "kernelspec": {
   "display_name": "Python 3",
   "language": "python",
   "name": "python3"
  },
  "language_info": {
   "codemirror_mode": {
    "name": "ipython",
    "version": 3
   },
   "file_extension": ".py",
   "mimetype": "text/x-python",
   "name": "python",
   "nbconvert_exporter": "python",
   "pygments_lexer": "ipython3",
   "version": "3.11.9"
  }
 },
 "nbformat": 4,
 "nbformat_minor": 2
}
