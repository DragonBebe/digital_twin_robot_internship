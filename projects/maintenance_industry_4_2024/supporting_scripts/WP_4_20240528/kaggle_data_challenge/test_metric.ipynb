{
 "cells": [
  {
   "cell_type": "code",
   "execution_count": 9,
   "metadata": {},
   "outputs": [],
   "source": [
    "\"\"\"\n",
    "Average F1 Score for the six motors.\n",
    "\"\"\"\n",
    "\n",
    "import pandas as pd\n",
    "import pandas.api.types\n",
    "from sklearn.metrics import f1_score\n",
    "import numpy as np\n",
    "\n",
    "\n",
    "class ParticipantVisibleError(Exception):\n",
    "    # If you want an error message to be shown to participants, you must raise the error as a ParticipantVisibleError\n",
    "    # All other errors will only be shown to the competition host. This helps prevent unintentional leakage of solution data.\n",
    "    pass\n",
    "\n",
    "\n",
    "def cal_classification_perf(y_true, y_pred):\n",
    "    ''' ### Description\n",
    "    This function calculates the classification performance: Accuracy, Precision, Recall and F1 score.\n",
    "    It considers different scenarios when divide by zero could occur for Precision, Recall and F1 score calculation.\n",
    "\n",
    "    ### Parameters:\n",
    "    - y_true: The true labels.\n",
    "    - y_pred: The predicted labels.\n",
    "\n",
    "    ### Return:\n",
    "    - f1: The F1 score.\n",
    "    '''\n",
    "    # Only when y_pred contains no zeros, and y_true contains no zeros, set precision to be 1 when divide by zero occurs.\n",
    "    if sum(y_true)==0 and sum(y_pred)==0:\n",
    "        f1 = f1_score(y_true, y_pred, zero_division=1)\n",
    "    else:\n",
    "        f1 = f1_score(y_true, y_pred, zero_division=0)\n",
    "\n",
    "    return f1\n",
    "\n",
    "\n",
    "def score(solution: pd.DataFrame, submission: pd.DataFrame, row_id_column_name: str) -> float:\n",
    "    '''\n",
    "    >>> import pandas as pd\n",
    "    >>> num_rows = 5\n",
    "    >>> data = {'idx': list(range(num_rows))}\n",
    "    >>> for i in range(1, 7):\n",
    "    ...     column_name = f'data_motor_{i}_label'\n",
    "    ...     data[column_name] = [1] * num_rows\n",
    "    >>> solution = pd.DataFrame(data)\n",
    "    >>> submission = solution\n",
    "    >>> score(solution.copy(), submission.copy(), 'idx')\n",
    "    1.0\n",
    "    '''\n",
    "\n",
    "\n",
    "    del solution[row_id_column_name]\n",
    "    del submission[row_id_column_name]\n",
    "\n",
    "    results = []\n",
    "\n",
    "    for i in range(6):\n",
    "        col_name = f'data_motor_{i+1}_label'\n",
    "        y_true = solution[col_name].values\n",
    "        y_pred = submission[col_name].values\n",
    "        \n",
    "        # Check lengths\n",
    "        len_y_true = len(y_true)\n",
    "        len_y_pred = len(y_pred)\n",
    "\n",
    "        # If y_pred is shorter, pad it with zeros at the beginning\n",
    "        if len_y_pred < len_y_true:\n",
    "            # Calculate the number of zeros needed\n",
    "            padding_length = len_y_true - len_y_pred\n",
    "            # Create an array of zeros\n",
    "            padding = np.zeros(padding_length, dtype=y_pred.dtype)\n",
    "            # Concatenate the padding with y_pred\n",
    "            y_pred = np.concatenate((padding, y_pred))\n",
    "        \n",
    "        result = cal_classification_perf(y_true, y_pred)\n",
    "        results.append(result)\n",
    "    \n",
    "    df_results = pd.DataFrame(data=[results], columns=['motor_1', 'motor_2', 'motor_3', 'motor_4', 'motor_5', 'motor_6'])\n",
    "    print('F1 score for each motor:')\n",
    "    print(df_results)\n",
    "\n",
    "    df_results.to_csv('f1_per_motor.csv')\n",
    "        \n",
    "    score_result = sum(results)/len(results)\n",
    "\n",
    "    return score_result"
   ]
  },
  {
   "cell_type": "code",
   "execution_count": 8,
   "metadata": {},
   "outputs": [
    {
     "name": "stdout",
     "output_type": "stream",
     "text": [
      "F1 score for each motor:\n",
      "   motor_1  motor_2  motor_3  motor_4  motor_5  motor_6\n",
      "0      1.0      1.0      1.0      1.0      1.0      1.0\n"
     ]
    },
    {
     "data": {
      "text/plain": [
       "1.0"
      ]
     },
     "execution_count": 8,
     "metadata": {},
     "output_type": "execute_result"
    }
   ],
   "source": [
    "# Unit test.\n",
    "\n",
    "import pandas as pd\n",
    "\n",
    "num_rows = 5\n",
    "data = {'idx': list(range(num_rows))}\n",
    "for i in range(1, 7):\n",
    "    column_name = f'data_motor_{i}_label'\n",
    "    data[column_name] = [1] * num_rows\n",
    "    \n",
    "solution = pd.DataFrame(data)\n",
    "submission = solution\n",
    "score(solution.copy(), submission.copy(), 'idx')"
   ]
  }
 ],
 "metadata": {
  "kernelspec": {
   "display_name": ".venv",
   "language": "python",
   "name": "python3"
  },
  "language_info": {
   "codemirror_mode": {
    "name": "ipython",
    "version": 3
   },
   "file_extension": ".py",
   "mimetype": "text/x-python",
   "name": "python",
   "nbconvert_exporter": "python",
   "pygments_lexer": "ipython3",
   "version": "3.11.7"
  }
 },
 "nbformat": 4,
 "nbformat_minor": 2
}
