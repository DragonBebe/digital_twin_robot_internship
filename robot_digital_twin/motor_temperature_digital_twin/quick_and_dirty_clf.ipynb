{
 "cells": [
  {
   "cell_type": "markdown",
   "metadata": {},
   "source": [
    "## Prepare data\n",
    "\n",
    "### Only consider remove outliers\n",
    "\n",
    "Read all the data. Apply simple outlier removal by validity range."
   ]
  },
  {
   "cell_type": "code",
   "execution_count": 9,
   "metadata": {},
   "outputs": [],
   "source": [
    "from utility import read_all_test_data_from_path\n",
    "import numpy as np\n",
    "import pandas as pd\n",
    "\n",
    "\n",
    "def remove_outliers(df: pd.DataFrame):\n",
    "    ''' # Description\n",
    "    Remove outliers from the dataframe based on defined valid ranges. \n",
    "    Define a valid range of temperature and voltage. \n",
    "    Use ffil function to replace the invalid measurement with the previous value.\n",
    "    '''\n",
    "    df['temperature'] = df['temperature'].where(df['temperature'] <= 100, np.nan)\n",
    "    df['temperature'] = df['temperature'].where(df['temperature'] >= 0, np.nan)\n",
    "    df['temperature'] = df['temperature'].ffill()\n",
    "\n",
    "    df['voltage'] = df['voltage'].where(df['voltage'] >= 6000, np.nan)\n",
    "    df['voltage'] = df['voltage'].where(df['voltage'] <= 9000, np.nan)\n",
    "    df['voltage'] = df['voltage'].ffill()\n",
    "\n",
    "    df['position'] = df['position'].where(df['position'] >= 0, np.nan)\n",
    "    df['position'] = df['position'].where(df['position'] <= 1000, np.nan)\n",
    "    df['position'] = df['position'].ffill()\n",
    "\n",
    "\n",
    "base_dictionary = '../../projects/maintenance_industry_4_2024/dataset/training_data/'\n",
    "df_data = read_all_test_data_from_path(base_dictionary, remove_outliers, is_plot=False)"
   ]
  },
  {
   "cell_type": "markdown",
   "metadata": {},
   "source": [
    "## Define experiment supporting function\n",
    "\n",
    "### Training the model for all motors, using all the features."
   ]
  },
  {
   "cell_type": "code",
   "execution_count": 10,
   "metadata": {},
   "outputs": [],
   "source": [
    "from sklearn.pipeline import Pipeline\n",
    "from sklearn.linear_model import LogisticRegression\n",
    "from utility import run_cross_val\n",
    "\n",
    "def run_all_motors(df_data, mdl, window_size=0, single_run_result=True, mdl_type='clf'):\n",
    "    all_results = []\n",
    "    # Loop over all the six motors.\n",
    "    for i in range(1, 7):\n",
    "        # Get the name of the response variable.\n",
    "        y_name = f'data_motor_{i}_label'\n",
    "    \n",
    "        # Seperate features and the response variable.\n",
    "        # Remove the irrelavent features.\n",
    "        df_x = df_data.drop(columns=['data_motor_1_label', 'data_motor_2_label', 'data_motor_3_label',\n",
    "                                     'data_motor_4_label', 'data_motor_5_label','data_motor_6_label'])\n",
    "        # Get y.\n",
    "        y = df_data.loc[:, y_name]\n",
    "\n",
    "        print(f'Model for predicting the label of motor {i}:')\n",
    "        # Run cross validation.\n",
    "        df_perf = run_cross_val(mdl, df_x, y, window_size=window_size, single_run_result=single_run_result, mdl_type=mdl_type)\n",
    "        # Print the mean performance.\n",
    "        print(df_perf.mean())\n",
    "        print('\\n')\n",
    "\n",
    "        all_results.append(df_perf)\n",
    "\n",
    "    return all_results"
   ]
  },
  {
   "cell_type": "markdown",
   "metadata": {},
   "source": [
    "## Logistic regression"
   ]
  },
  {
   "cell_type": "code",
   "execution_count": 11,
   "metadata": {},
   "outputs": [],
   "source": [
    "# We pick five tests with label 1.\n",
    "df_data = df_data[df_data['test_condition'].isin(['20240325_155003', '20240425_093699', '20240425_094425', '20240426_140055', '20240426_141190'])]"
   ]
  },
  {
   "cell_type": "markdown",
   "metadata": {},
   "source": [
    "### Window size = 0"
   ]
  },
  {
   "cell_type": "code",
   "execution_count": 12,
   "metadata": {},
   "outputs": [
    {
     "name": "stdout",
     "output_type": "stream",
     "text": [
      "Model for predicting the label of motor 1:\n",
      "Accuracy     0.884783\n",
      "Precision    0.400000\n",
      "Recall       0.400000\n",
      "F1 score     0.400000\n",
      "dtype: float64\n",
      "\n",
      "\n",
      "Model for predicting the label of motor 2:\n",
      "Accuracy     0.661677\n",
      "Precision    0.600000\n",
      "Recall       0.405562\n",
      "F1 score     0.410823\n",
      "dtype: float64\n",
      "\n",
      "\n",
      "Model for predicting the label of motor 3:\n",
      "Accuracy     0.734773\n",
      "Precision    0.419116\n",
      "Recall       0.800000\n",
      "F1 score     0.435787\n",
      "dtype: float64\n",
      "\n",
      "\n",
      "Model for predicting the label of motor 4:\n",
      "Accuracy     0.657775\n",
      "Precision    0.600000\n",
      "Recall       0.403638\n",
      "F1 score     0.407146\n",
      "dtype: float64\n",
      "\n",
      "\n",
      "Model for predicting the label of motor 5:\n",
      "Accuracy     0.843996\n",
      "Precision    0.400000\n",
      "Recall       0.400000\n",
      "F1 score     0.400000\n",
      "dtype: float64\n",
      "\n",
      "\n",
      "Model for predicting the label of motor 6:\n",
      "Accuracy     0.804987\n",
      "Precision    0.470996\n",
      "Recall       0.479070\n",
      "F1 score     0.418126\n",
      "dtype: float64\n",
      "\n",
      "\n"
     ]
    }
   ],
   "source": [
    "from sklearn.preprocessing import StandardScaler\n",
    "from sklearn.linear_model import LogisticRegression\n",
    "from sklearn.pipeline import Pipeline\n",
    "import warnings\n",
    "%matplotlib inline\n",
    "\n",
    "warnings.filterwarnings('ignore')\n",
    "\n",
    "from sklearn.model_selection import GridSearchCV\n",
    "\n",
    "# Define the steps of the pipeline\n",
    "steps = [\n",
    "    ('standardizer', StandardScaler()),  # Step 1: StandardScaler\n",
    "    ('mdl', LogisticRegression(class_weight='balanced'))    # Step 2: Linear Regression\n",
    "]\n",
    "\n",
    "# Create the pipeline\n",
    "pipeline = Pipeline(steps)\n",
    "\n",
    "# Define hyperparameters to search\n",
    "param_grid = {\n",
    "    'mdl__C': [0.001, 0.01, 0.1, 1, 10, 100]  # Inverse of regularization strength\n",
    "}\n",
    "\n",
    "# Initialize GridSearchCV\n",
    "grid_search = GridSearchCV(estimator=pipeline, param_grid=param_grid, scoring='f1', cv=5)\n",
    "\n",
    "all_results = run_all_motors(df_data, grid_search, window_size=0, single_run_result=False, mdl_type='clf')"
   ]
  },
  {
   "cell_type": "markdown",
   "metadata": {},
   "source": [
    "### window size = 5"
   ]
  },
  {
   "cell_type": "code",
   "execution_count": 15,
   "metadata": {},
   "outputs": [
    {
     "name": "stdout",
     "output_type": "stream",
     "text": [
      "Model for predicting the label of motor 1:\n",
      "Accuracy     0.885232\n",
      "Precision    0.400000\n",
      "Recall       0.400000\n",
      "F1 score     0.400000\n",
      "dtype: float64\n",
      "\n",
      "\n",
      "Model for predicting the label of motor 2:\n",
      "Accuracy     0.660943\n",
      "Precision    0.600000\n",
      "Recall       0.405416\n",
      "F1 score     0.410546\n",
      "dtype: float64\n",
      "\n",
      "\n",
      "Model for predicting the label of motor 3:\n",
      "Accuracy     0.760123\n",
      "Precision    0.420621\n",
      "Recall       0.800000\n",
      "F1 score     0.438667\n",
      "dtype: float64\n",
      "\n",
      "\n",
      "Model for predicting the label of motor 4:\n",
      "Accuracy     0.656448\n",
      "Precision    0.600000\n",
      "Recall       0.402588\n",
      "F1 score     0.405109\n",
      "dtype: float64\n",
      "\n",
      "\n",
      "Model for predicting the label of motor 5:\n",
      "Accuracy     0.821477\n",
      "Precision    0.400000\n",
      "Recall       0.400000\n",
      "F1 score     0.400000\n",
      "dtype: float64\n",
      "\n",
      "\n",
      "Model for predicting the label of motor 6:\n",
      "Accuracy     0.806199\n",
      "Precision    0.472566\n",
      "Recall       0.479070\n",
      "F1 score     0.419827\n",
      "dtype: float64\n",
      "\n",
      "\n"
     ]
    }
   ],
   "source": [
    "all_results = run_all_motors(df_data, grid_search, window_size=5, single_run_result=False, mdl_type='clf')"
   ]
  },
  {
   "cell_type": "markdown",
   "metadata": {},
   "source": [
    "### window size = 10"
   ]
  },
  {
   "cell_type": "code",
   "execution_count": 16,
   "metadata": {},
   "outputs": [
    {
     "name": "stdout",
     "output_type": "stream",
     "text": [
      "Model for predicting the label of motor 1:\n"
     ]
    },
    {
     "name": "stdout",
     "output_type": "stream",
     "text": [
      "Accuracy     0.884591\n",
      "Precision    0.400000\n",
      "Recall       0.400000\n",
      "F1 score     0.400000\n",
      "dtype: float64\n",
      "\n",
      "\n",
      "Model for predicting the label of motor 2:\n",
      "Accuracy     0.660596\n",
      "Precision    0.600000\n",
      "Recall       0.405661\n",
      "F1 score     0.411010\n",
      "dtype: float64\n",
      "\n",
      "\n",
      "Model for predicting the label of motor 3:\n",
      "Accuracy     0.761332\n",
      "Precision    0.420796\n",
      "Recall       0.800000\n",
      "F1 score     0.438986\n",
      "dtype: float64\n",
      "\n",
      "\n",
      "Model for predicting the label of motor 4:\n",
      "Accuracy     0.653421\n",
      "Precision    0.400000\n",
      "Recall       0.400000\n",
      "F1 score     0.400000\n",
      "dtype: float64\n",
      "\n",
      "\n",
      "Model for predicting the label of motor 5:\n",
      "Accuracy     0.808123\n",
      "Precision    0.400000\n",
      "Recall       0.400000\n",
      "F1 score     0.400000\n",
      "dtype: float64\n",
      "\n",
      "\n",
      "Model for predicting the label of motor 6:\n",
      "Accuracy     0.807476\n",
      "Precision    0.474208\n",
      "Recall       0.479070\n",
      "F1 score     0.421584\n",
      "dtype: float64\n",
      "\n",
      "\n"
     ]
    }
   ],
   "source": [
    "all_results = run_all_motors(df_data, grid_search, window_size=10, single_run_result=False, mdl_type='clf')"
   ]
  },
  {
   "cell_type": "code",
   "execution_count": 17,
   "metadata": {},
   "outputs": [
    {
     "name": "stdout",
     "output_type": "stream",
     "text": [
      "Model for predicting the label of motor 1:\n"
     ]
    },
    {
     "name": "stdout",
     "output_type": "stream",
     "text": [
      "Accuracy     0.885692\n",
      "Precision    0.400000\n",
      "Recall       0.400000\n",
      "F1 score     0.400000\n",
      "dtype: float64\n",
      "\n",
      "\n",
      "Model for predicting the label of motor 2:\n",
      "Accuracy     0.666133\n",
      "Precision    0.600000\n",
      "Recall       0.411912\n",
      "F1 score     0.422485\n",
      "dtype: float64\n",
      "\n",
      "\n",
      "Model for predicting the label of motor 3:\n",
      "Accuracy     0.763456\n",
      "Precision    0.421133\n",
      "Recall       0.800000\n",
      "F1 score     0.439598\n",
      "dtype: float64\n",
      "\n",
      "\n",
      "Model for predicting the label of motor 4:\n",
      "Accuracy     0.652520\n",
      "Precision    0.600000\n",
      "Recall       0.400151\n",
      "F1 score     0.400301\n",
      "dtype: float64\n",
      "\n",
      "\n",
      "Model for predicting the label of motor 5:\n",
      "Accuracy     0.80699\n",
      "Precision    0.40000\n",
      "Recall       0.40000\n",
      "F1 score     0.40000\n",
      "dtype: float64\n",
      "\n",
      "\n",
      "Model for predicting the label of motor 6:\n",
      "Accuracy     0.810086\n",
      "Precision    0.277725\n",
      "Recall       0.279070\n",
      "F1 score     0.225279\n",
      "dtype: float64\n",
      "\n",
      "\n"
     ]
    }
   ],
   "source": [
    "all_results = run_all_motors(df_data, grid_search, window_size=20, single_run_result=False, mdl_type='clf')"
   ]
  }
 ],
 "metadata": {
  "kernelspec": {
   "display_name": "base",
   "language": "python",
   "name": "python3"
  },
  "language_info": {
   "codemirror_mode": {
    "name": "ipython",
    "version": 3
   },
   "file_extension": ".py",
   "mimetype": "text/x-python",
   "name": "python",
   "nbconvert_exporter": "python",
   "pygments_lexer": "ipython3",
   "version": "3.11.4"
  }
 },
 "nbformat": 4,
 "nbformat_minor": 2
}
