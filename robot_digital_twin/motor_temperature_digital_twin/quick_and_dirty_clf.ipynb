{
 "cells": [
  {
   "cell_type": "markdown",
   "metadata": {},
   "source": [
    "## Prepare data\n",
    "\n",
    "### Only consider remove outliers\n",
    "\n",
    "Read all the data. Apply simple outlier removal by validity range."
   ]
  },
  {
   "cell_type": "code",
   "execution_count": 2,
   "metadata": {},
   "outputs": [],
   "source": [
    "from utility import read_all_test_data_from_path\n",
    "import numpy as np\n",
    "import pandas as pd\n",
    "\n",
    "\n",
    "def remove_outliers(df: pd.DataFrame):\n",
    "    ''' # Description\n",
    "    Remove outliers from the dataframe based on defined valid ranges. \n",
    "    Define a valid range of temperature and voltage. \n",
    "    Use ffil function to replace the invalid measurement with the previous value.\n",
    "    '''\n",
    "    df['temperature'] = df['temperature'].where(df['temperature'] <= 100, np.nan)\n",
    "    df['temperature'] = df['temperature'].where(df['temperature'] >= 0, np.nan)\n",
    "    df['temperature'] = df['temperature'].ffill()\n",
    "\n",
    "    df['voltage'] = df['voltage'].where(df['voltage'] >= 6000, np.nan)\n",
    "    df['voltage'] = df['voltage'].where(df['voltage'] <= 9000, np.nan)\n",
    "    df['voltage'] = df['voltage'].ffill()\n",
    "\n",
    "    df['position'] = df['position'].where(df['position'] >= 0, np.nan)\n",
    "    df['position'] = df['position'].where(df['position'] <= 1000, np.nan)\n",
    "    df['position'] = df['position'].ffill()\n",
    "\n",
    "\n",
    "base_dictionary = '../../projects/maintenance_industry_4_2024/dataset/training_data/'\n",
    "df_data = read_all_test_data_from_path(base_dictionary, remove_outliers, is_plot=False)"
   ]
  },
  {
   "cell_type": "markdown",
   "metadata": {},
   "source": [
    "## Define experiment supporting function\n",
    "\n",
    "Here we define two supporting functions:\n",
    "- run_one_motor_detection: runs one motor detection experiment\n",
    "- run_all_motors: runs experiments on all the six motors."
   ]
  },
  {
   "cell_type": "code",
   "execution_count": 3,
   "metadata": {},
   "outputs": [],
   "source": [
    "from sklearn.pipeline import Pipeline\n",
    "from sklearn.linear_model import LogisticRegression\n",
    "from utility import run_cross_val\n",
    "\n",
    "\n",
    "def run_one_motor_detection(motor_idx, df_data, mdl, feature_list, window_size=0, single_run_result=True, mdl_type='clf'):\n",
    "    ''' Train and test the fault detection model for one motor. '''\n",
    "    # Get the name of the response variable.\n",
    "    y_name = f'data_motor_{motor_idx}_label'\n",
    "\n",
    "    # Seperate features and the response variable.\n",
    "    # Remove the irrelavent features.\n",
    "    feature_list.append('test_condition')\n",
    "    df_x = df_data[feature_list]\n",
    "    # Get y.\n",
    "    y = df_data.loc[:, y_name]\n",
    "\n",
    "    print(f'Model for predicting the label of motor {motor_idx}:')\n",
    "    # Run cross validation.\n",
    "    df_perf = run_cross_val(mdl, df_x, y, window_size=window_size, single_run_result=single_run_result, mdl_type=mdl_type)\n",
    "    # Print the mean performance.\n",
    "    print(df_perf.mean())\n",
    "    print('\\n')\n",
    "\n",
    "    return df_perf\n",
    "\n",
    "\n",
    "def run_all_motors(df_data, mdl, window_size=0, single_run_result=True, mdl_type='clf'):\n",
    "    all_results = []\n",
    "    # Loop over all the six motors.\n",
    "    for i in range(1, 7):\n",
    "        df_perf = run_one_motor_detection(i, df_data, mdl, window_size=window_size, single_run_result=single_run_result, mdl_type=mdl_type)\n",
    "\n",
    "        all_results.append(df_perf)\n",
    "\n",
    "    return all_results"
   ]
  },
  {
   "cell_type": "markdown",
   "metadata": {},
   "source": [
    "## Logistic regression\n",
    "\n",
    "### Dataset\n",
    "\n",
    "In this notbook, we run an experiment on motor 6. We pick 5 datasets where four contains failure labels and the one does not."
   ]
  },
  {
   "cell_type": "code",
   "execution_count": 4,
   "metadata": {},
   "outputs": [],
   "source": [
    "# We pick five tests with label 1.\n",
    "df_data = df_data[df_data['test_condition'].isin(['20240325_155003', '20240425_093699', '20240425_094425', '20240426_140055', '20240426_141190'])]"
   ]
  },
  {
   "cell_type": "markdown",
   "metadata": {},
   "source": [
    "### Window size = 0"
   ]
  },
  {
   "cell_type": "code",
   "execution_count": 5,
   "metadata": {},
   "outputs": [
    {
     "name": "stdout",
     "output_type": "stream",
     "text": [
      "Model for predicting the label of motor 6:\n",
      "Accuracy     0.391385\n",
      "Precision    0.129136\n",
      "Recall       0.600000\n",
      "F1 score     0.202448\n",
      "dtype: float64\n",
      "\n",
      "\n"
     ]
    }
   ],
   "source": [
    "from sklearn.preprocessing import StandardScaler\n",
    "from sklearn.linear_model import LogisticRegression\n",
    "from sklearn.pipeline import Pipeline\n",
    "import warnings\n",
    "%matplotlib inline\n",
    "\n",
    "warnings.filterwarnings('ignore')\n",
    "\n",
    "from sklearn.model_selection import GridSearchCV\n",
    "\n",
    "# Define the steps of the pipeline\n",
    "steps = [\n",
    "    ('standardizer', StandardScaler()),  # Step 1: StandardScaler\n",
    "    ('mdl', LogisticRegression(class_weight='balanced'))    # Step 2: Linear Regression\n",
    "]\n",
    "\n",
    "# Create the pipeline\n",
    "pipeline = Pipeline(steps)\n",
    "\n",
    "# Define hyperparameters to search\n",
    "param_grid = {\n",
    "    'mdl__C': [0.001, 0.01, 0.1, 1, 10, 100]  # Inverse of regularization strength\n",
    "}\n",
    "\n",
    "# Initialize GridSearchCV\n",
    "grid_search = GridSearchCV(estimator=pipeline, param_grid=param_grid, scoring='f1', cv=5)\n",
    "\n",
    "# all_results = run_all_motors(df_data, grid_search, window_size=0, single_run_result=False, mdl_type='clf')\n",
    "feature_list_all = ['time', 'data_motor_1_position', 'data_motor_1_temperature', 'data_motor_1_voltage',\n",
    "                'data_motor_2_position', 'data_motor_2_temperature', 'data_motor_2_voltage',\n",
    "                'data_motor_3_position', 'data_motor_3_temperature', 'data_motor_3_voltage',\n",
    "                'data_motor_4_position', 'data_motor_4_temperature', 'data_motor_4_voltage',\n",
    "                'data_motor_5_position', 'data_motor_5_temperature', 'data_motor_5_voltage',\n",
    "                'data_motor_6_position', 'data_motor_6_temperature', 'data_motor_6_voltage']\n",
    "all_results = run_one_motor_detection(6, df_data, grid_search, feature_list_all, window_size=0, single_run_result=False, mdl_type='clf')"
   ]
  },
  {
   "cell_type": "code",
   "execution_count": 6,
   "metadata": {},
   "outputs": [
    {
     "name": "stdout",
     "output_type": "stream",
     "text": [
      "Model for predicting the label of motor 6:\n",
      "Accuracy     0.229143\n",
      "Precision    0.129136\n",
      "Recall       0.600000\n",
      "F1 score     0.202448\n",
      "dtype: float64\n",
      "\n",
      "\n"
     ]
    }
   ],
   "source": [
    "feature_list_self = ['time', 'data_motor_6_position', 'data_motor_6_temperature', 'data_motor_6_voltage']\n",
    "all_results = run_one_motor_detection(6, df_data, grid_search, feature_list_self, window_size=0, single_run_result=False, mdl_type='clf')"
   ]
  },
  {
   "cell_type": "markdown",
   "metadata": {},
   "source": [
    "### window size = 5"
   ]
  },
  {
   "cell_type": "code",
   "execution_count": 7,
   "metadata": {},
   "outputs": [
    {
     "name": "stdout",
     "output_type": "stream",
     "text": [
      "Model for predicting the label of motor 6:\n",
      "Accuracy     0.393565\n",
      "Precision    0.131180\n",
      "Recall       0.600000\n",
      "F1 score     0.204800\n",
      "dtype: float64\n",
      "\n",
      "\n"
     ]
    }
   ],
   "source": [
    "# all_results = run_all_motors(df_data, grid_search, window_size=5, single_run_result=False, mdl_type='clf')\n",
    "feature_list_all = ['time', 'data_motor_1_position', 'data_motor_1_temperature', 'data_motor_1_voltage',\n",
    "                'data_motor_2_position', 'data_motor_2_temperature', 'data_motor_2_voltage',\n",
    "                'data_motor_3_position', 'data_motor_3_temperature', 'data_motor_3_voltage',\n",
    "                'data_motor_4_position', 'data_motor_4_temperature', 'data_motor_4_voltage',\n",
    "                'data_motor_5_position', 'data_motor_5_temperature', 'data_motor_5_voltage',\n",
    "                'data_motor_6_position', 'data_motor_6_temperature', 'data_motor_6_voltage']\n",
    "all_results = run_one_motor_detection(6, df_data, grid_search, feature_list_all, window_size=5, single_run_result=False, mdl_type='clf')"
   ]
  },
  {
   "cell_type": "code",
   "execution_count": 8,
   "metadata": {},
   "outputs": [
    {
     "name": "stdout",
     "output_type": "stream",
     "text": [
      "Model for predicting the label of motor 6:\n",
      "Accuracy     0.235018\n",
      "Precision    0.131180\n",
      "Recall       0.600000\n",
      "F1 score     0.204800\n",
      "dtype: float64\n",
      "\n",
      "\n"
     ]
    }
   ],
   "source": [
    "feature_list_self = ['time', 'data_motor_6_position', 'data_motor_6_temperature', 'data_motor_6_voltage']\n",
    "all_results = run_one_motor_detection(6, df_data, grid_search, feature_list_self, window_size=5, single_run_result=False, mdl_type='clf')"
   ]
  },
  {
   "cell_type": "markdown",
   "metadata": {},
   "source": [
    "### window size = 10"
   ]
  },
  {
   "cell_type": "code",
   "execution_count": 9,
   "metadata": {},
   "outputs": [
    {
     "name": "stdout",
     "output_type": "stream",
     "text": [
      "Model for predicting the label of motor 6:\n",
      "Accuracy     0.395795\n",
      "Precision    0.133303\n",
      "Recall       0.600000\n",
      "F1 score     0.207217\n",
      "dtype: float64\n",
      "\n",
      "\n"
     ]
    }
   ],
   "source": [
    "# all_results = run_all_motors(df_data, grid_search, window_size=10, single_run_result=False, mdl_type='clf')\n",
    "feature_list_all = ['time', 'data_motor_1_position', 'data_motor_1_temperature', 'data_motor_1_voltage',\n",
    "                'data_motor_2_position', 'data_motor_2_temperature', 'data_motor_2_voltage',\n",
    "                'data_motor_3_position', 'data_motor_3_temperature', 'data_motor_3_voltage',\n",
    "                'data_motor_4_position', 'data_motor_4_temperature', 'data_motor_4_voltage',\n",
    "                'data_motor_5_position', 'data_motor_5_temperature', 'data_motor_5_voltage',\n",
    "                'data_motor_6_position', 'data_motor_6_temperature', 'data_motor_6_voltage']\n",
    "all_results = run_one_motor_detection(6, df_data, grid_search, feature_list_all, window_size=10, single_run_result=False, mdl_type='clf')"
   ]
  },
  {
   "cell_type": "code",
   "execution_count": 10,
   "metadata": {},
   "outputs": [
    {
     "name": "stdout",
     "output_type": "stream",
     "text": [
      "Model for predicting the label of motor 6:\n",
      "Accuracy     0.238048\n",
      "Precision    0.133303\n",
      "Recall       0.600000\n",
      "F1 score     0.207217\n",
      "dtype: float64\n",
      "\n",
      "\n"
     ]
    }
   ],
   "source": [
    "feature_list_self = ['time', 'data_motor_6_position', 'data_motor_6_temperature', 'data_motor_6_voltage']\n",
    "all_results = run_one_motor_detection(6, df_data, grid_search, feature_list_self, window_size=10, single_run_result=False, mdl_type='clf')"
   ]
  },
  {
   "cell_type": "code",
   "execution_count": null,
   "metadata": {},
   "outputs": [],
   "source": [
    "# all_results = run_all_motors(df_data, grid_search, window_size=10, single_run_result=False, mdl_type='clf')\n",
    "feature_list_all = ['time', 'data_motor_1_position', 'data_motor_1_temperature', 'data_motor_1_voltage',\n",
    "                'data_motor_2_position', 'data_motor_2_temperature', 'data_motor_2_voltage',\n",
    "                'data_motor_3_position', 'data_motor_3_temperature', 'data_motor_3_voltage',\n",
    "                'data_motor_4_position', 'data_motor_4_temperature', 'data_motor_4_voltage',\n",
    "                'data_motor_5_position', 'data_motor_5_temperature', 'data_motor_5_voltage',\n",
    "                'data_motor_6_position', 'data_motor_6_temperature', 'data_motor_6_voltage']\n",
    "all_results = run_one_motor_detection(6, df_data, grid_search, feature_list_all, window_size=100, single_run_result=False, mdl_type='clf')"
   ]
  },
  {
   "cell_type": "code",
   "execution_count": 17,
   "metadata": {},
   "outputs": [
    {
     "name": "stdout",
     "output_type": "stream",
     "text": [
      "Model for predicting the label of motor 6:\n",
      "Accuracy     0.399745\n",
      "Precision    0.185009\n",
      "Recall       0.447619\n",
      "F1 score     0.248517\n",
      "dtype: float64\n",
      "\n",
      "\n"
     ]
    }
   ],
   "source": [
    "feature_list_self = ['time', 'data_motor_6_position', 'data_motor_6_temperature', 'data_motor_6_voltage']\n",
    "all_results = run_one_motor_detection(6, df_data, grid_search, feature_list_self, window_size=100, single_run_result=False, mdl_type='clf')"
   ]
  }
 ],
 "metadata": {
  "kernelspec": {
   "display_name": "base",
   "language": "python",
   "name": "python3"
  },
  "language_info": {
   "codemirror_mode": {
    "name": "ipython",
    "version": 3
   },
   "file_extension": ".py",
   "mimetype": "text/x-python",
   "name": "python",
   "nbconvert_exporter": "python",
   "pygments_lexer": "ipython3",
   "version": "3.11.4"
  }
 },
 "nbformat": 4,
 "nbformat_minor": 2
}
